{
 "cells": [
  {
   "attachments": {},
   "cell_type": "markdown",
   "metadata": {},
   "source": [
    "# Video 3.16 Hacks\n",
    "\n",
    "- toc: true \n",
    "- badges: true\n",
    "- sticky_rank: 1\n",
    "- author: Haeryn Yu\n",
    "- categories: [week5, notes]"
   ]
  },
  {
   "attachments": {},
   "cell_type": "markdown",
   "metadata": {},
   "source": [
    "## Simulations\n",
    "\n",
    "A simulation is an simpler abstraction of an very complicated natural phenomena. It removes details that are unnecessary or are too difficult to simulate. The level of abstraction in a simulation depends on why we're creating it in the first place. \n",
    "\n",
    "### Why would you make a simulation?\n",
    "- Safer: Many safety hazards that can be encountered through experimentation can be avoided with simulations. Ex: Designing a boat to travel to an island\n",
    "- Less Expensive: Since real world equipment isn’t needed to make and run a simulation (only computer and programmer needed), this makes simulations an inexpensive way to test something. Ex: Boat example again\n",
    "- Repeatable: Once a simulation is created, it’s easy to repeat it to get different but similar results.\n",
    "- Can Make Predictions: Something that can’t be done with experiments is making predictions. Simulations are useful for this because previous data can be used to predict what will happen in the future. Ex: Global population\n",
    "\n"
   ]
  },
  {
   "attachments": {},
   "cell_type": "markdown",
   "metadata": {},
   "source": [
    "## Hacks\n",
    "\n",
    "<table>\n",
    "  <tr>\n",
    "   <th>Question</th>\n",
    "   <th>Answer</th>\n",
    "  </tr>\n",
    "\n",
    " <tr>\n",
    "    <td>Name</td>\n",
    "    <td>Haeryn Yu</td>\n",
    "  </tr>\n",
    "\n",
    "  <tr>\n",
    "    <td>1</td>\n",
    "    <td>X</td>\n",
    "  </tr>\n",
    "\n",
    "  <tr>\n",
    "    <td>2</td>\n",
    "    <td>X</td>\n",
    "  </tr>\n",
    "\n",
    "  <tr>\n",
    "    <td>3</td>\n",
    "    <td>C</td>\n",
    "  </tr>\n",
    "\n",
    "  <tr>\n",
    "    <td>4</td>\n",
    "    <td>B</td>\n",
    "  </tr>\n",
    "\n",
    "  <tr>\n",
    "    <td>5</td>\n",
    "    <td>C</td>\n",
    "  </tr>\n",
    "\n",
    "  <tr>\n",
    "    <td>6</td>\n",
    "    <td>A</td>\n",
    "  </tr>\n",
    "\n",
    "  <tr>\n",
    "    <td>7</td>\n",
    "    <td>A</td>\n",
    "  </tr>\n",
    "\n",
    "  <tr>\n",
    "    <td>8</td>\n",
    "    <td>X</td>\n",
    "  </tr>\n",
    "\n",
    "  <tr>\n",
    "    <td>9</td>\n",
    "    <td>B</td>\n",
    "  </tr>\n",
    "</table>\n",
    "  \n"
   ]
  },
  {
   "attachments": {},
   "cell_type": "markdown",
   "metadata": {},
   "source": [
    "## Simulation"
   ]
  },
  {
   "cell_type": "code",
   "execution_count": 4,
   "metadata": {},
   "outputs": [
    {
     "name": "stdout",
     "output_type": "stream",
     "text": [
      "[{'First Dice': 4, 'Second Dice': 1}, {'First Dice': 3, 'Second Dice': 1}, {'First Dice': 6, 'Second Dice': 5}, {'First Dice': 5, 'Second Dice': 3}, {'First Dice': 2, 'Second Dice': 5}]\n"
     ]
    }
   ],
   "source": [
    "# rolling 2 six-sided die\n",
    "import random\n",
    "\n",
    "data = []\n",
    "\n",
    "for i in range(5):\n",
    "  one = random.randint(1, 6)  \n",
    "  two = random.randint(1, 6)\n",
    "\n",
    "  d = { \"First Dice\": one, \"Second Dice\": two}\n",
    "\n",
    "  data.append(d)\n",
    "\n",
    "print(data)"
   ]
  }
 ],
 "metadata": {
  "kernelspec": {
   "display_name": "Python 3",
   "language": "python",
   "name": "python3"
  },
  "language_info": {
   "codemirror_mode": {
    "name": "ipython",
    "version": 3
   },
   "file_extension": ".py",
   "mimetype": "text/x-python",
   "name": "python",
   "nbconvert_exporter": "python",
   "pygments_lexer": "ipython3",
   "version": "3.8.10 (default, Jun 22 2022, 20:18:18) \n[GCC 9.4.0]"
  },
  "orig_nbformat": 4,
  "vscode": {
   "interpreter": {
    "hash": "916dbcbb3f70747c44a77c7bcd40155683ae19c65e1c03b4aa3499c5328201f1"
   }
  }
 },
 "nbformat": 4,
 "nbformat_minor": 2
}
