{
 "cells": [
  {
   "attachments": {},
   "cell_type": "markdown",
   "metadata": {},
   "source": [
    "# Video 3.16 Hacks\n",
    "\n",
    "- toc: true \n",
    "- badges: true\n",
    "- sticky_rank: 1\n",
    "- author: Haeryn Yu\n",
    "- categories: [week5, notes]"
   ]
  },
  {
   "attachments": {},
   "cell_type": "markdown",
   "metadata": {},
   "source": [
    "## Simulations\n",
    "\n",
    "A simulation is an simpler abstraction of an very complicated natural phenomena. It removes details that are unnecessary or are too difficult to simulate. The level of abstraction in a simulation depends on why we're creating it in the first place. \n",
    "\n",
    "### Why would you make a simulation?\n",
    "- Safer: Many safety hazards that can be encountered through experimentation can be avoided with simulations. Ex: Designing a boat to travel to an island\n",
    "- Less Expensive: Since real world equipment isn’t needed to make and run a simulation (only computer and programmer needed), this makes simulations an inexpensive way to test something. Ex: Boat example again\n",
    "- Repeatable: Once a simulation is created, it’s easy to repeat it to get different but similar results.\n",
    "- Can Make Predictions: Something that can’t be done with experiments is making predictions. Simulations are useful for this because previous data can be used to predict what will happen in the future. Ex: Global population\n",
    "\n"
   ]
  },
  {
   "attachments": {},
   "cell_type": "markdown",
   "metadata": {},
   "source": [
    "## Hacks\n",
    "\n"
   ]
  }
 ],
 "metadata": {
  "kernelspec": {
   "display_name": "Python 3",
   "language": "python",
   "name": "python3"
  },
  "language_info": {
   "name": "python",
   "version": "3.8.10 (default, Jun 22 2022, 20:18:18) \n[GCC 9.4.0]"
  },
  "orig_nbformat": 4,
  "vscode": {
   "interpreter": {
    "hash": "916dbcbb3f70747c44a77c7bcd40155683ae19c65e1c03b4aa3499c5328201f1"
   }
  }
 },
 "nbformat": 4,
 "nbformat_minor": 2
}
