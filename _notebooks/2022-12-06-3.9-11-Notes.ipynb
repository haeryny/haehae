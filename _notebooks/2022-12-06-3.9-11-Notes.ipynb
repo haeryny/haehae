{
 "cells": [
  {
   "attachments": {},
   "cell_type": "markdown",
   "metadata": {},
   "source": [
    "# Video 3.9-11 Hacks\n",
    "\n",
    "- toc: true \n",
    "- badges: true\n",
    "- sticky_rank: 1\n",
    "- author: Haeryn Yu\n",
    "- categories: [week4, notes]"
   ]
  },
  {
   "attachments": {},
   "cell_type": "markdown",
   "metadata": {},
   "source": [
    "## Hacks\n",
    "### Question 1\n",
    "Write this Boolean statement in the form of a conditional (if/else) statement: stayInside⟵((isCold) OR (isRaining))\n",
    "\n",
    "{\n",
    "if(isRaining){\n",
    "    day --> \"cold\"\n",
    "}\n",
    "if(isCold){\n",
    "    day --> \"cold\"\n",
    "}\n",
    "}\n",
    "\n",
    "### Question 2\n",
    "Create an algorithm that uses selection and/or iteration that will represent one player's complete turn.\n",
    "\n",
    "import random\n",
    "\n",
    "def turn():\n",
    "    max = 0\n",
    "    for i in range(4):\n",
    "        start = random.randint(1, 10)\n",
    "        if start > max:\n",
    "            max = max\n",
    "    print(max)\n",
    "\n",
    "turn()\n",
    "turn()\n",
    "\n",
    "### Question 3\n",
    "Create an algorithm that will allow the arrow to reach the gray square:\n",
    "\n",
    "{\n",
    "if CANMOVEFORWARD{\n",
    "    moveForwards\n",
    "}\n",
    "else{\n",
    "    if CANTURNRIGHT{\n",
    "        turnright\n",
    "    }\n",
    "    if CANTURNLEFT{\n",
    "        turnleft\n",
    "    }\n",
    "}\n",
    "}\n",
    "\n",
    "### Question 4\n",
    "Make a binary search tree of different the list [1,2,3,4,6,9,11,69]\n",
    "\n",
    "### Question 5\n",
    "\n",
    "You would start your search for element 69 by looking at the middle index, 5, first (4.5, round up to 5). That is six. Six being less than 69 would lead you to consider the more than half. The middle index for this section is 7 (5+9 = 14/2 = 7). Index number seven is 11, which is lower than index number 69. The eighth index is next examined ((8+8)/2 = 8). We searched and discovered the right number since 8 = 69.\n",
    "\n",
    "### Question 6\n",
    "\n",
    "(8+1)/2 = 4.5 -> lst[5] = 6\n",
    "\n",
    "(5+8)/2 = 12.5 -> lst[13] = 11\n",
    "\n",
    "(8+8)/2 = 8 -> lst[8] =69\n",
    "\n",
    "### Question 7\n",
    "\n",
    "[\"Market”, ”Ralphs”, “store”, \"Target”, ”Walmart”]\n",
    "\n",
    "To place them in alphabetical order, ascending, you may add these in this sequence. As numbers are bigger, you may compare which numerical value of these ascii characters is greater, allowing these to be appropriately compared.\n",
    "\n",
    "### Question 8\n",
    "\n",
    "Due to the fact that binary search automatically filters out half of the options with each iteration, it is much faster than sequential search. Since you begin at the center index, you can either select the group that is higher or lower than the middle index. As a result, each time you make a cut, you will eliminate half of the potential outcomes.\n",
    "\n",
    "### Question 9\n",
    "\n",
    "I would look for number 36 out of the list [64,36,16,11,9]. First, I would choose the middle element ((1+5)/2 = 3, which is the middle element for collegeboard purposes), and since 16 is less than 36, I would shift back (as the list is reversed). As a result, I would choose the second element (1+3/2 = 2), which equals 36, therefore it would take me two tries to reach 36."
   ]
  }
 ],
 "metadata": {
  "kernelspec": {
   "display_name": "Python 3",
   "language": "python",
   "name": "python3"
  },
  "language_info": {
   "name": "python",
   "version": "3.8.10 (default, Jun 22 2022, 20:18:18) \n[GCC 9.4.0]"
  },
  "orig_nbformat": 4,
  "vscode": {
   "interpreter": {
    "hash": "916dbcbb3f70747c44a77c7bcd40155683ae19c65e1c03b4aa3499c5328201f1"
   }
  }
 },
 "nbformat": 4,
 "nbformat_minor": 2
}
