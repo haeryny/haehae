{
 "cells": [
  {
   "attachments": {},
   "cell_type": "markdown",
   "metadata": {},
   "source": [
    "#  Parallel Computing Hacks\n",
    "- toc: true\n",
    "- categories: []"
   ]
  },
  {
   "attachments": {},
   "cell_type": "markdown",
   "metadata": {},
   "source": [
    "### AP Classroom\n",
    "> AP Classroom. Provide answers and thoughts on theoritical question form college board Video in section 4.3.  They start at about the 9 minute mark.\n",
    "\n",
    "### Example 1\n",
    "A particular computer has two identical processors which can run in parallel. Each Process must be executed on a single processor and each processor can only run one process at a time. \n",
    "\n",
    "The table below lists the amount of time it takes to execute each of the processes on a single computer. None of the processes are dependent on any of the others. \n",
    "\n",
    "What is the minimum amount of time to execute all three processes when the two processors are run in parallel?\n",
    "\n",
    "|Process|Execution Time on Either Processor|\n",
    "|-------|----------------------------------|\n",
    "|X      |50 seconds|\n",
    "|Y|10 seconds|\n",
    "|Z|30 seconds|\n",
    "\n",
    "#### Answer 1\n",
    "50 seconds\n",
    "\n",
    "If we run the processes sequentially on a single processor, it will take a total of 50 + 10 + 30 = 90 seconds. However, we have two identical processors available, so we can run two processes in parallel. The bottleneck process will be the one with the longest execution time, which is process X with 50 seconds. The other two processes can be completed in the remaining time it takes to complete process X. So, we can run processes Y and Z simultaneously on the two processors, which will take a total of 30 seconds (since Z takes 30 seconds to execute). Once process Z is complete, we can use one processor to complete process X, which will take another 20 seconds. Therefore, the total time required to complete all three processes using both processors is 20 + 30 = 50 seconds. Thus, the minimum amount of time required to execute all three processes when the two processors are run in parallel is 50 seconds.\n",
    "\n",
    "### Example 2\n",
    "A computer has two duplicate processors that are able to run in parallel. The table below shows the amount of time it takes each processor to execute each of two processes. Neither process is dependent on the other. \n",
    "\n",
    "|Process|Execution Time on Either Processor|\n",
    "|-------|----------------------------------|\n",
    "|A      |25 seconds|\n",
    "|B      |45 seconds|\n",
    "\n",
    "What is the difference in execution time between running the two processes in parallel in place of running them one after the other on a single processor?\n",
    "\n",
    "#### Answer 2\n",
    "\n",
    "If the two processors are run in parallel, then process A and process B can be executed simultaneously on each processor. The total execution time will then be equal to the time required to complete the longest running process. So, in this case, the total execution time will be equal to the maximum of the execution time for process A and process B on either processor, which is:\n",
    "\n",
    "max(25 seconds, 45 seconds) = 45 seconds\n",
    "\n",
    "Therefore, the difference in execution time between running the two processes in parallel and running them one after the other on a single processor is:\n",
    "\n",
    "45 seconds - (25 seconds + 45 seconds) = 45 seconds - 70 seconds = -25 seconds\n",
    "\n",
    "This negative result indicates that running the two processes in parallel is faster than running them one after the other on a single processor. The parallel execution would take 45 seconds to complete, while running them sequentially on a single processor would take 70 seconds.\n",
    "\n",
    "### Data Structures.  Build a List Comprehension example"
   ]
  },
  {
   "cell_type": "code",
   "execution_count": 1,
   "metadata": {},
   "outputs": [
    {
     "name": "stdout",
     "output_type": "stream",
     "text": [
      "[2, 4, 6, 8, 10]\n"
     ]
    }
   ],
   "source": [
    "original_list = [1, 2, 3, 4, 5, 6, 7, 8, 9, 10]\n",
    "even_numbers = [x for x in original_list if x % 2 == 0]\n",
    "print(even_numbers)"
   ]
  }
 ],
 "metadata": {
  "kernelspec": {
   "display_name": "base",
   "language": "python",
   "name": "python3"
  },
  "language_info": {
   "codemirror_mode": {
    "name": "ipython",
    "version": 3
   },
   "file_extension": ".py",
   "mimetype": "text/x-python",
   "name": "python",
   "nbconvert_exporter": "python",
   "pygments_lexer": "ipython3",
   "version": "3.9.12"
  },
  "orig_nbformat": 4
 },
 "nbformat": 4,
 "nbformat_minor": 2
}
