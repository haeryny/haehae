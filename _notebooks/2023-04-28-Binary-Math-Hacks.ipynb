{
 "cells": [
  {
   "attachments": {},
   "cell_type": "markdown",
   "metadata": {},
   "source": [
    "# Binary Hacks\n",
    "\n",
    "- toc: true\n",
    "- badges: false\n",
    "- comments: true"
   ]
  },
  {
   "attachments": {},
   "cell_type": "markdown",
   "metadata": {},
   "source": [
    "## Binary Math Hacks\n",
    "\n",
    "### Questions\n",
    "\n",
    "1. How do you think we should find the difference of two binary numbers? The product? The quotient? What rules need to be followed for those operations? Look into all of this on the Internet and note down important information you find?\n",
    "\n",
    "    - To find the difference of two binary numbers, we can use the process of binary subtraction. Binary subtraction is similar to decimal subtraction, except that we use a base of 2 instead of 10. The following rules need to be followed for binary subtraction. For example, if the subtrahend (the number being subtracted) is larger than the minuend (the number being subtracted from), we need to borrow 1 from the next higher bit. Then, To borrow 1 from the next higher bit, we need to subtract 2 from that bit. For example, if we need to borrow 1 from the next higher bit in the number 10011010, we would subtract 2 from the second bit from the left, giving us 01111010. Once we have borrowed 1, we add 2 to the current bit to make up for the borrowed 1. For example, if we need to borrow 1 from the next higher bit in the number 10011010, and we are subtracting 1 from the rightmost bit, we would add 2 to that bit, giving us 1. We continue this process until we have subtracted all the bits in the subtrahend from the minuend.\n",
    "\n",
    "### Binary Table\n",
    "\n",
    "Subtracting Binary Numbers Rules\n",
    "\n",
    "|1-1|1-0|0-1|0-0|\n",
    "|---|---|---|---|\n",
    "|0  |1  |1  |0  |\n",
    "\n",
    "Multiplying Binary Numbers Rules\n",
    "\n",
    "|1x1|1x0|0x1|0x0|\n",
    "|---|---|---|---|\n",
    "|1  |0  |0  |0  |\n",
    "\n",
    "Dividing Binary Numbers Rules\n",
    "|1/1|0/1|\n",
    "|---|---|\n",
    "|1  |0  |\n",
    "\n",
    "### Create Buttons\n",
    "\n",
    "<html>\n",
    "<label>First binary number:</label>\n",
    "<input type=\"text\" id=\"num1\" />\n",
    "<br />\n",
    "<label>Second binary number:</label>\n",
    "<input type=\"text\" id=\"num2\" />\n",
    "<br />\n",
    "<button onclick=\"subtractBinary()\">Subtract Binary</button>\n",
    "<br />\n",
    "<label>Result (binary):</label>\n",
    "<input type=\"text\" id=\"resultBinary\" readonly />\n",
    "<br />\n",
    "<label>Result (decimal):</label>\n",
    "<input type=\"text\" id=\"resultDecimal\" readonly />\n",
    "</html>\n",
    "\n",
    "<script>\n",
    "function subtractBinary() {\n",
    "  let num1 = document.getElementById(\"num1\").value;\n",
    "  let num2 = document.getElementById(\"num2\").value;\n",
    "\n",
    "  // Pad the shorter number with leading zeros\n",
    "  let maxLength = Math.max(num1.length, num2.length);\n",
    "  num1 = num1.padStart(maxLength, \"0\");\n",
    "  num2 = num2.padStart(maxLength, \"0\");\n",
    "\n",
    "  let result = \"\";\n",
    "  let borrow = 0;\n",
    "\n",
    "  for (let i = maxLength - 1; i >= 0; i--) {\n",
    "    let bit1 = parseInt(num1.charAt(i));\n",
    "    let bit2 = parseInt(num2.charAt(i));\n",
    "\n",
    "    let difference = bit1 - bit2 - borrow;\n",
    "\n",
    "    if (difference < 0) {\n",
    "      difference += 2;\n",
    "      borrow = 1;\n",
    "    } else {\n",
    "      borrow = 0;\n",
    "    }\n",
    "\n",
    "    result = difference.toString() + result;\n",
    "  }\n",
    "\n",
    "  // Remove leading zeros from the result\n",
    "  while (result.charAt(0) === \"0\" && result.length > 1) {\n",
    "    result = result.substr(1);\n",
    "  }\n",
    "\n",
    "  // Set the result in the output fields\n",
    "  document.getElementById(\"resultBinary\").value = result;\n",
    "\n",
    "  let resultDecimal = parseInt(result, 2);\n",
    "  document.getElementById(\"resultDecimal\").value = resultDecimal;\n",
    "}\n",
    "</script>\n",
    "\n"
   ]
  },
  {
   "attachments": {},
   "cell_type": "markdown",
   "metadata": {},
   "source": [
    "## Binary Logic Hacks\n",
    "\n",
    "### Quiz\n",
    "\n",
    "I needed some time to finish the quiz, and I used the notes as a guide. But I now have a good understanding of binary logic.\n",
    "\n",
    "![image](https://user-images.githubusercontent.com/111464920/235281970-f25437eb-da95-4bc5-a283-f3df098cdf41.png)\n",
    "\n",
    "### Coding Challenge"
   ]
  },
  {
   "cell_type": "code",
   "execution_count": 20,
   "metadata": {},
   "outputs": [
    {
     "name": "stdout",
     "output_type": "stream",
     "text": [
      "Mean of original data: 63.4\n",
      "Mean of updated data: 69.1\n",
      "Number of odd elements: 328\n"
     ]
    }
   ],
   "source": [
    "import csv\n",
    "\n",
    "# Read the CSV file and extract the data into a list of integers\n",
    "data = []\n",
    "with open('random_numbers_1000.csv', 'r') as files:\n",
    "    reader = csv.reader(files)\n",
    "    for row in reader:\n",
    "        data.extend([int(num) for num in row])\n",
    "\n",
    "# Calculate the mean of the original data\n",
    "mean_orig = sum(data) / len(data)\n",
    "\n",
    "# Iterate over the data and apply the rules\n",
    "num_odds = 0\n",
    "for i in range(len(data)):\n",
    "    if data[i] % 2 == 1:\n",
    "        data[i] = 0\n",
    "        num_odds += 1\n",
    "    elif data[i] % 5 == 0:\n",
    "       data[i] *= 2\n",
    "\n",
    "# Calculate the mean of the updated data\n",
    "mean_updated = sum(data) / len(data)\n",
    "\n",
    "# Print the results\n",
    "print(\"Mean of original data: \", mean_orig)\n",
    "print(\"Mean of updated data: \", mean_updated)\n",
    "print(\"Number of odd elements: \", num_odds)\n"
   ]
  },
  {
   "attachments": {},
   "cell_type": "markdown",
   "metadata": {},
   "source": [
    "## Logic Gates Hacks\n",
    "\n",
    "### Questions\n",
    "\n",
    "1. How can logic gates be used to execute basic computer functions?(1-2 sentences)\n",
    "    - Logic gates can be combined in various ways to perform basic computer functions such as arithmetic, logical operations, and memory storage. These functions are the building blocks of a computer's central processing unit (CPU).\n",
    "\n",
    "2. What is the difference between boolean operations and logic gates?(1-2 sentences)\n",
    "    - Boolean operations are abstract logical operations performed on Boolean values (True or False) that result in another Boolean value. Logic gates, on the other hand, are physical electronic devices that perform Boolean operations on binary signals (0 or 1) and output a binary signal based on the input signal. While boolean operations are a mathematical abstraction, logic gates are physical devices used in electronic circuits to implement boolean operations.\n",
    "\n",
    "3. Complete this quiz and correct any mistakes in your blog\n",
    "    - ![image](https://user-images.githubusercontent.com/111464920/235283000-e0948655-8cd9-4f3c-a897-b1704f5ceab2.png)\n",
    "    - I got the first one wrong which is this one. I misread the question because I thought it was talking about AND and not OR.\n",
    "    - ![image](https://user-images.githubusercontent.com/111464920/235283181-0da47784-5e8e-42ad-bd9e-61a1faae3fdc.png)\n",
    "    "
   ]
  },
  {
   "attachments": {},
   "cell_type": "markdown",
   "metadata": {},
   "source": [
    "## Fetching Hacks"
   ]
  },
  {
   "cell_type": "code",
   "execution_count": 32,
   "metadata": {
    "vscode": {
     "languageId": "javascript"
    }
   },
   "outputs": [
    {
     "name": "stdout",
     "output_type": "stream",
     "text": [
      "{ id: 2, name: 'Bob', age: 32 }, { id: 4, name: 'David', age: 45 }\n"
     ]
    }
   ],
   "source": [
    "const data = [\n",
    "  { id: 1, name: 'Alice', age: 27 },\n",
    "  { id: 2, name: 'Bob', age: 32 },\n",
    "  { id: 3, name: 'Charlie', age: 21 },\n",
    "  { id: 4, name: 'David', age: 45 }\n",
    "];\n",
    "\n",
    "// Filter data based on age greater than 30\n",
    "const filteredData = data.filter((item) => {\n",
    "  return item.age > 30;\n",
    "});\n",
    "\n",
    "console.log(filteredData);\n",
    "// Output: [{ id: 2, name: 'Bob', age: 32 }, { id: 4, name: 'David', age: 45 }]\n"
   ]
  },
  {
   "attachments": {},
   "cell_type": "markdown",
   "metadata": {},
   "source": [
    "## Github Pages Hacks\n",
    "\n",
    "1. Github pages is a hosting service website. Search up another hosting service website other than Github's and write at least one benefit, advantage, or feature at is different from other hosting service websites.\n",
    "    - One hosting service website that is different from GitHub Pages is Netlify. Netlify is a platform that provides continuous deployment and hosting services for web projects. One of the main advantages of Netlify is that it offers a powerful and flexible build system that allows developers to build, test, and deploy their projects automatically. Netlify also provides features such as forms handling, identity management, and serverless functions, which allow developers to build and deploy dynamic web applications without the need for a separate backend server. Additionally, Netlify provides a global content delivery network (CDN) and SSL encryption by default, ensuring that web applications hosted on the platform are fast, secure, and highly available."
   ]
  },
  {
   "attachments": {},
   "cell_type": "markdown",
   "metadata": {},
   "source": [
    "## APIs Hacks\n",
    "\n",
    "Take this python table and use a minimum of 3 pandas functions to analyze the data"
   ]
  },
  {
   "cell_type": "code",
   "execution_count": 33,
   "metadata": {},
   "outputs": [
    {
     "name": "stdout",
     "output_type": "stream",
     "text": [
      "     Name  Age Gender Grade\n",
      "0  Dillon   24      M     A\n",
      "1    Noor   31      M     B\n",
      "2  Steven   42      M     A\n",
      "3   Lucas   27      M     D\n",
      "4  Harsha   29      F     C\n",
      "5  Varalu   26      F     F\n",
      "6    Ryan   90      F     B\n",
      "7   Emaad   15      F     A\n",
      "             Age\n",
      "count   8.000000\n",
      "mean   35.500000\n",
      "std    23.268618\n",
      "min    15.000000\n",
      "25%    25.500000\n",
      "50%    28.000000\n",
      "75%    33.750000\n",
      "max    90.000000\n",
      "         Age\n",
      "Gender      \n",
      "F       40.0\n",
      "M       31.0\n",
      "A    3\n",
      "B    2\n",
      "D    1\n",
      "C    1\n",
      "F    1\n",
      "Name: Grade, dtype: int64\n"
     ]
    }
   ],
   "source": [
    "import pandas as pd\n",
    "data = {\n",
    "    'Name': ['Dillon', 'Noor', 'Steven', 'Lucas', 'Harsha', 'Varalu', 'Ryan', 'Emaad'],\n",
    "    'Age': [24, 31, 42, 27, 29, 26, 90, 15],\n",
    "    'Gender': ['M', 'M', 'M', 'M', 'F', 'F', 'F', 'F'],\n",
    "    'Grade': ['A', 'B', 'A', 'D', 'C', 'F', 'B', 'A']\n",
    "}\n",
    "df = pd.DataFrame(data)\n",
    "print(df)\n",
    "\n",
    "print(df.describe())\n",
    "\n",
    "print(df.groupby('Gender').mean())\n",
    "\n",
    "print(df['Grade'].value_counts())\n"
   ]
  },
  {
   "attachments": {},
   "cell_type": "markdown",
   "metadata": {},
   "source": [
    "## Data Compression Hacks\n",
    "\n",
    "Lossless compression algorithms typically work by finding patterns in the data and representing them with shorter codes, while ensuring that the compressed data can be perfectly reconstructed back to its original form. Examples of lossless compression algorithms include Huffman coding, Lempel-Ziv-Welch (LZW) compression, and DEFLATE.\n",
    "\n",
    "On the other hand, lossy compression algorithms work by permanently discarding some data that is deemed less important or less noticeable to the human eye. This allows for a higher compression ratio, but the reconstructed data will not be exactly the same as the original data. Lossy compression is often used for media files such as images, audio, and video, where small visual or auditory imperfections are generally acceptable. Examples of lossy compression algorithms include JPEG, MP3, and MPEG."
   ]
  }
 ],
 "metadata": {
  "kernelspec": {
   "display_name": "base",
   "language": "python",
   "name": "python3"
  },
  "language_info": {
   "codemirror_mode": {
    "name": "ipython",
    "version": 3
   },
   "file_extension": ".py",
   "mimetype": "text/x-python",
   "name": "python",
   "nbconvert_exporter": "python",
   "pygments_lexer": "ipython3",
   "version": "3.9.12"
  },
  "orig_nbformat": 4
 },
 "nbformat": 4,
 "nbformat_minor": 2
}
