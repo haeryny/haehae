{
 "cells": [
  {
   "cell_type": "markdown",
   "metadata": {},
   "source": [
    "# Video 3.9-11 Hacks\n",
    "\n",
    "- toc: true \n",
    "- badges: true\n",
    "- sticky_rank: 1\n",
    "- author: Haeryn Yu\n",
    "- categories: [week3, notes]"
   ]
  },
  {
   "cell_type": "markdown",
   "metadata": {},
   "source": [
    "## Hacks\n",
    "1. **Write this Boolean statement in the form of a conditional (if/else) statement:**\n",
    "stayInside⟵((isCold) OR (isRaining))\n",
    "\n",
    "2. **Create an algorithm that uses selection and/or iteration that will represent one player's complete turn.**\n",
    "\n",
    "    - During a turn, each player gets 4 attempts/chances to get the greatest number possible.\n",
    "\n",
    "    - During each attempt, the player will use a random number generator to select a random number from 1 to 10.\n",
    "\n",
    "    - After they have had 4 chances, their score is the greatest number they received from the random number generator, and their turn is over.\n",
    "\n",
    "3. **Create an algorithm that will allow the arrow to reach the gray square:**\n",
    "![]({{site.baseurl}}/images/examplevideo3.png)\n",
    "\n",
    "4. Make a binary search tree of different the list [1,2,3,4,6,9,11,69]\n",
    "\n",
    "5. Explain thorughly how to find the number 69 in the list above (use key words)\n",
    "\n",
    "6. Make a diagram explaining how you found the list (not tree, include equation)\n",
    "\n",
    "7. Put this list of strings in a order that can be used for binary search [\"store\",\"Market\",\"Walmart\",Target\",\"Ralphs\"]\n",
    "\n",
    "8. Explain why Binary Search is more efficient than Sequential Search\n",
    "\n",
    "9. [64,36,16,11,9] Explain which number you are finding, how many check it would take, and make a binary search tree\n",
    "\n"
   ]
  }
 ],
 "metadata": {
  "kernelspec": {
   "display_name": "Python 3.8.10 64-bit",
   "language": "python",
   "name": "python3"
  },
  "language_info": {
   "name": "python",
   "version": "3.8.10"
  },
  "orig_nbformat": 4,
  "vscode": {
   "interpreter": {
    "hash": "916dbcbb3f70747c44a77c7bcd40155683ae19c65e1c03b4aa3499c5328201f1"
   }
  }
 },
 "nbformat": 4,
 "nbformat_minor": 2
}
