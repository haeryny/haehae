{
 "cells": [
  {
   "attachments": {},
   "cell_type": "markdown",
   "metadata": {},
   "source": [
    "# Guide to SASS Hacks \n",
    "- toc: true\n",
    "- comments: true\n",
    "- badges: false"
   ]
  },
  {
   "attachments": {},
   "cell_type": "markdown",
   "metadata": {},
   "source": [
    "# Classwork: \n",
    "\n",
    "### What are 5 Basic UI Elements?:\n",
    "\n",
    "1. Color \n",
    "2. Font\n",
    "3. Layout\n",
    "4. Icons\n",
    "5. Accesibility\n",
    "\n",
    "### In your own words, explain what SASS does:\n",
    "- SASS is an extension of CSS which can be used to create and style parts of your website. It helps improve the complexity of your page by putting all your styles into specific styles where you are able to style your website.\n",
    "\n",
    "### What are some benefits to SASS?: \n",
    "- SASS has variables that we can not use in CSS. They also have builtin features and reduces complexity in code.\n",
    "\n",
    "### Describe/Explain one of the more \"advanced\" SASS properties below in detail:\n",
    "- The variable property that is part of the \"advanced\" SASS properties help with the overall complexity with your program. You can create variables with the dollar signs and you are able to reduce the complexities. They are easy to communicate with and can be used easily. These variables help with all the code as you are able to reference it in different parts of your SASS and you do not have to write the color over and over again.\n",
    "\n",
    "## [Link to Number Guesser Game](https://anicricket.github.io/tmv4/_pages/numberguesser_v3.html)\n",
    "\n",
    "### How does the number guesser game work?\n",
    "- \n",
    "\n",
    "### Explain how SASS can be used to make the number guesser game look more visually appealing?\n",
    "- "
   ]
  },
  {
   "attachments": {},
   "cell_type": "markdown",
   "metadata": {},
   "source": [
    "# Hacks - Insert any screenshots, code segments, etc. that you need to in order to demonstrate an understanding of the hacks\n",
    "\n",
    "## Hacks Part 1\n",
    "1. Add your own element to your own repository to make it unique (0.9)\n",
    "\n",
    "## Hacks Part 2\n",
    "1. Add the style change button to your own github page (0.9)\n",
    "    - Change the button to your own styles \n",
    "    - See if you can let make it change to multiple different styles (we understand that it is hard to create multiple distinct styles so you are only required to make it clear you have at least three different styles at can be changed)\n",
    "2. Extra: Try and incorporate something you learned in the lesson into your CPT Project (0.1)\n",
    "\n",
    "## Hacks Part 3\n",
    "1. Add SASS to Number Guesser Game provided (0.9) or create your own Javascript game/application and add SASS to it (0.9+)\n",
    "2. We will collectively decide on the \"best\" game/app and award potential seed. \n",
    "\n",
    "# Copy and paste the following code segment into a markdown file which will be used for the hacks:"
   ]
  },
  {
   "attachments": {},
   "cell_type": "markdown",
   "metadata": {},
   "source": [
    "<html>\n",
    "<head>\n",
    "  <title>Guess the Number</title>\n",
    "</head>\n",
    "<body>\n",
    "  <h1>Guess the Number</h1>\n",
    "  <p>Try to guess the number between 1 and 100.</p>\n",
    "  <input type=\"text\" id=\"guess\" placeholder=\"Enter your guess\">\n",
    "  <button onclick=\"checkGuess()\">Submit</button>\n",
    "  <p id=\"result\"></p>\n",
    "\n",
    "  <script>\n",
    "    // Generate a random number between 1 and 100\n",
    "    const randomNumber = Math.floor(Math.random() * 100) + 1;\n",
    "    let attempts = 0;\n",
    "\n",
    "    function checkGuess() {\n",
    "      // Get the user's guess\n",
    "      const guess = parseInt(document.getElementById(\"guess\").value);\n",
    "\n",
    "      // Increase the number of attempts\n",
    "      attempts++;\n",
    "\n",
    "      // Check if the guess is correct\n",
    "      if (guess === randomNumber) {\n",
    "        document.getElementById(\"result\").innerHTML = `Congratulations! You guessed the number in ${attempts} attempts.`;\n",
    "      } else if (guess < randomNumber) {\n",
    "        document.getElementById(\"result\").innerHTML = \"Too low. Guess again.\";\n",
    "      } else {\n",
    "        document.getElementById(\"result\").innerHTML = \"Too high. Guess again.\";\n",
    "      }\n",
    "    }\n",
    "  </script>\n",
    "</body>\n",
    "</html>"
   ]
  }
 ],
 "metadata": {
  "language_info": {
   "name": "python"
  },
  "orig_nbformat": 4
 },
 "nbformat": 4,
 "nbformat_minor": 2
}
