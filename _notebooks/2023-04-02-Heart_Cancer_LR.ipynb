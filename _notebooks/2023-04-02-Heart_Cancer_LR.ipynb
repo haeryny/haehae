{
 "cells": [
  {
   "attachments": {},
   "cell_type": "markdown",
   "metadata": {},
   "source": [
    "# Heart Cancer Biopsy Classifier  "
   ]
  },
  {
   "attachments": {},
   "cell_type": "markdown",
   "metadata": {},
   "source": [
    "# Dataset Information\n",
    "The dataset used  to train the model is called the Breast Cancer Wisconsin (Diagnostic) Data Set. It consists of 569 biopsy samples. "
   ]
  },
  {
   "cell_type": "code",
   "execution_count": null,
   "metadata": {},
   "outputs": [],
   "source": [
    "import pandas as pd\n",
    "from sklearn import metrics\n",
    "\n",
    "data = pd.read_csv('files/cancer.csv')\n",
    "data['diagnosis'].replace({'M':1, 'B':0}, inplace = True) # Replaces Malignant with 0 and Benign with 1, to simplify data visualization \n",
    "data.to_csv('cancer.csv')\n",
    "del data"
   ]
  },
  {
   "cell_type": "code",
   "execution_count": null,
   "metadata": {},
   "outputs": [],
   "source": [
    "import os             \n",
    "import numpy as np    \n",
    "import pandas as pd   \n",
    "from sklearn.metrics import accuracy_score"
   ]
  },
  {
   "cell_type": "code",
   "execution_count": null,
   "metadata": {},
   "outputs": [],
   "source": [
    "# Uploading and preparing data\n",
    "data_path  = 'cancer.csv'\n",
    "\n",
    "dataframe = pd.read_csv(data_path)\n",
    "\n",
    "dataframe = dataframe[['diagnosis', 'perimeter_mean', 'radius_mean', 'texture_mean', 'area_mean', 'smoothness_mean', 'concavity_mean', 'symmetry_mean']]\n",
    "dataframe['diagnosis_cat'] = dataframe['diagnosis'].astype('category').map({1: '1 (malignant)', 0: '0 (benign)'})\n",
    "\n",
    "dataframe.head()"
   ]
  },
  {
   "cell_type": "code",
   "execution_count": null,
   "metadata": {},
   "outputs": [],
   "source": [
    "import seaborn as sns\n",
    "import matplotlib.pyplot as plt "
   ]
  },
  {
   "cell_type": "code",
   "execution_count": null,
   "metadata": {},
   "outputs": [],
   "source": [
    "# Visualizing the relationship between mean perimeter and identifying Malignant vs Benign \n",
    "sns.catplot(x = 'perimeter_mean', y = 'diagnosis_cat', data = dataframe, order=['1 (malignant)', '0 (benign)'])\n",
    "dataframe.head()"
   ]
  },
  {
   "attachments": {},
   "cell_type": "markdown",
   "metadata": {},
   "source": [
    "Lower perimenter_mean seems to correlate with benign tumors. It is important to note that perimeter_mean has overlap so it is important to consider other factors "
   ]
  },
  {
   "attachments": {},
   "cell_type": "markdown",
   "metadata": {},
   "source": [
    "Lower radius_mean correlates with benign tumors, similar to perimeter. "
   ]
  },
  {
   "cell_type": "code",
   "execution_count": null,
   "metadata": {},
   "outputs": [],
   "source": [
    "sns.catplot(x = 'texture_mean', y = 'diagnosis_cat', data = dataframe, order=['1 (malignant)', '0 (benign)'])\n",
    "sns.catplot(x = 'area_mean', y = 'diagnosis_cat', data = dataframe, order=['1 (malignant)', '0 (benign)'])\n",
    "sns.catplot(x = 'concavity_mean', y = 'diagnosis_cat', data = dataframe, order=['1 (malignant)', '0 (benign)'])\n",
    "sns.catplot(x = 'smoothness_mean', y = 'diagnosis_cat', data = dataframe, order=['1 (malignant)', '0 (benign)'])\n",
    "sns.catplot(x = 'symmetry_mean', y = 'diagnosis_cat', data = dataframe, order=['1 (malignant)', '0 (benign)'])\n",
    "sns.catplot(x = 'radius_mean', y = 'diagnosis_cat', data = dataframe, order=['1 (malignant)', '0 (benign)'])\n"
   ]
  },
  {
   "attachments": {},
   "cell_type": "markdown",
   "metadata": {},
   "source": [
    "Mean Radius seems to have the most accurate, strongest correlation with the diagnosis. "
   ]
  },
  {
   "cell_type": "code",
   "execution_count": null,
   "metadata": {},
   "outputs": [],
   "source": [
    "boundary = 15 \n",
    "\n",
    "sns.catplot(x = 'radius_mean', y = 'diagnosis_cat', data = dataframe, order=['1 (malignant)', '0 (benign)'])\n",
    "plt.plot([boundary, boundary], [-.2, 1.2], 'g', linewidth = 2)"
   ]
  },
  {
   "cell_type": "code",
   "execution_count": null,
   "metadata": {},
   "outputs": [],
   "source": [
    "def boundary_classifier(target_boundary, radius_mean_series):\n",
    "  result = [] \n",
    "  for radius in radius_mean_series:\n",
    "    if radius> target_boundary:\n",
    "      result.append(1)\n",
    "    else:\n",
    "      result.append(0)\n",
    "  return result\n",
    "\n",
    "chosen_boundary = 15\n",
    "\n",
    "y_pred = boundary_classifier(chosen_boundary, dataframe['radius_mean'])\n",
    "dataframe['predicted'] = y_pred\n",
    "\n",
    "y_true = dataframe['diagnosis']\n",
    "\n",
    "sns.catplot(x = 'radius_mean', y = 'diagnosis_cat', hue = 'predicted', data = dataframe, order=['1 (malignant)', '0 (benign)'])\n",
    "plt.plot([chosen_boundary, chosen_boundary], [-.2, 1.2], 'g', linewidth = 2)\n"
   ]
  },
  {
   "cell_type": "code",
   "execution_count": null,
   "metadata": {},
   "outputs": [],
   "source": [
    "print (list(y_true))\n",
    "print (y_pred)\n",
    "\n",
    "accuracy = accuracy_score(y_true,y_pred)\n",
    "print(accuracy)"
   ]
  },
  {
   "attachments": {},
   "cell_type": "markdown",
   "metadata": {},
   "source": [
    "Accuracy will increase, as more x variables are introduced. "
   ]
  },
  {
   "cell_type": "code",
   "execution_count": null,
   "metadata": {},
   "outputs": [],
   "source": [
    "from sklearn.model_selection import train_test_split\n",
    "\n",
    "train_df, test_df = train_test_split(dataframe, test_size = 0.2, random_state = 1)"
   ]
  },
  {
   "cell_type": "code",
   "execution_count": null,
   "metadata": {},
   "outputs": [],
   "source": [
    "print('Number of rows in training dataframe:', train_df.shape[0])\n",
    "train_df.head()"
   ]
  },
  {
   "cell_type": "code",
   "execution_count": null,
   "metadata": {},
   "outputs": [],
   "source": [
    "print('Number of rows in test dataframe:', test_df.shape[0])\n",
    "test_df.head()"
   ]
  },
  {
   "cell_type": "code",
   "execution_count": null,
   "metadata": {},
   "outputs": [],
   "source": [
    "X = ['radius_mean']\n",
    "y = 'diagnosis'\n",
    "\n",
    "X_train = train_df[X]\n",
    "print('X_train, our input variables:')\n",
    "print(X_train.head())\n",
    "print()\n",
    "\n",
    "y_train = train_df[y]\n",
    "print('y_train, our output variable:')\n",
    "print(y_train.head())"
   ]
  },
  {
   "cell_type": "code",
   "execution_count": null,
   "metadata": {},
   "outputs": [],
   "source": [
    "from sklearn import linear_model\n",
    "logreg_model = linear_model.LogisticRegression()\n",
    "\n",
    "logreg_model.fit(X_train, y_train)\n",
    "X_test = test_df[X]\n",
    "y_test = test_df[y]\n",
    "\n",
    "y_pred = logreg_model.predict(X_test)"
   ]
  },
  {
   "cell_type": "code",
   "execution_count": null,
   "metadata": {},
   "outputs": [],
   "source": [
    "test_df['predicted'] = y_pred.squeeze()\n",
    "sns.catplot(x = X[0], y = 'diagnosis_cat', hue = 'predicted', data=test_df, order=['1 (malignant)', '0 (benign)'])"
   ]
  },
  {
   "cell_type": "code",
   "execution_count": null,
   "metadata": {},
   "outputs": [],
   "source": [
    "accuracy = accuracy_score(y_test, y_pred)\n",
    "print(accuracy)"
   ]
  },
  {
   "cell_type": "code",
   "execution_count": null,
   "metadata": {},
   "outputs": [],
   "source": [
    "y_prob = logreg_model.predict_proba(X_test)\n",
    "X_test_view = X_test[X].values.squeeze()\n",
    "plt.xlabel('radius_mean')\n",
    "plt.ylabel('Predicted Probability')\n",
    "sns.scatterplot(x = X_test_view, y = y_prob[:,1], hue = y_test, palette=['orange','blue'])"
   ]
  },
  {
   "attachments": {},
   "cell_type": "markdown",
   "metadata": {},
   "source": [
    "The colors represent the true diagnosis, while the the y axis represents the predicted probability. "
   ]
  },
  {
   "cell_type": "code",
   "execution_count": null,
   "metadata": {},
   "outputs": [],
   "source": [
    "multi_X = ['radius_mean', 'perimeter_mean', 'smoothness_mean']\n",
    "y = 'diagnosis'\n",
    "\n",
    "# 1. Split data into train and test\n",
    "multi_train_df, multi_test_df = train_test_split(dataframe, test_size = 0.2, random_state = 5)\n",
    "\n",
    "# 2. Prepare X_train, X_test, y_train, and y_test variables by extracting the appropriate columns:\n",
    "X_test = multi_test_df[multi_X]\n",
    "X_train = multi_train_df[multi_X]\n",
    "y_test = multi_test_df[y]\n",
    "y_train = multi_train_df[y]\n",
    "# 3. Initialize the model object\n",
    "logreg_model = linear_model.LogisticRegression()\n",
    "# 4. Fit the model to the training data\n",
    "logreg_model.fit(X_train, y_train)\n",
    "# 5. Use this trained model to predict on the test data\n",
    "y_pred = logreg_model.predict(X_test)\n",
    "# 6. Evaluate the accuracy by comparing to to the test labels and print out accuracy.\n",
    "accuracy = accuracy_score(y_test, y_pred)\n",
    "print(accuracy)"
   ]
  },
  {
   "cell_type": "code",
   "execution_count": null,
   "metadata": {},
   "outputs": [],
   "source": [
    "\n",
    "from sklearn import metrics\n",
    "\n",
    "cnf_matrix = metrics.confusion_matrix(y_test, y_pred)\n",
    "\n",
    "class_names = [0,1] \n",
    "\n",
    "fig, ax = plt.subplots()\n",
    "tick_marks = np.arange(len(class_names)) \n",
    "plt.xticks(tick_marks, class_names)\n",
    "plt.yticks(tick_marks, class_names)\n",
    "sns.heatmap(pd.DataFrame(cnf_matrix), annot=True, cmap=\"YlGnBu\" ,fmt='g')\n",
    "ax.xaxis.set_label_position(\"top\")\n",
    "plt.tight_layout()\n",
    "plt.title('Confusion matrix', y = 1.1)\n",
    "plt.ylabel('Actual diagnosis')\n",
    "plt.xlabel('Predicted diagnosis')"
   ]
  },
  {
   "cell_type": "code",
   "execution_count": null,
   "metadata": {},
   "outputs": [],
   "source": [
    "print(cnf_matrix)\n",
    "(tn, fp), (fn, tp) = cnf_matrix\n",
    "print (\"True-Negative, False-Positive, False-Negative, True-Positive:\", tn, fp, fn, tp)"
   ]
  }
 ],
 "metadata": {
  "kernelspec": {
   "display_name": "base",
   "language": "python",
   "name": "python3"
  },
  "language_info": {
   "codemirror_mode": {
    "name": "ipython",
    "version": 3
   },
   "file_extension": ".py",
   "mimetype": "text/x-python",
   "name": "python",
   "nbconvert_exporter": "python",
   "pygments_lexer": "ipython3",
   "version": "3.9.12"
  },
  "orig_nbformat": 4
 },
 "nbformat": 4,
 "nbformat_minor": 2
}
