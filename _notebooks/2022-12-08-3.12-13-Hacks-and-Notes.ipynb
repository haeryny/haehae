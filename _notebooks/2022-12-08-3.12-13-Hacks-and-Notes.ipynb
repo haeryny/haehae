{
 "cells": [
  {
   "attachments": {},
   "cell_type": "markdown",
   "metadata": {},
   "source": [
    "# Video 3.12-13 Hacks\n",
    "\n",
    "- toc: true \n",
    "- badges: true\n",
    "- sticky_rank: 1\n",
    "- author: Haeryn Yu\n",
    "- categories: [week4, notes]"
   ]
  },
  {
   "attachments": {},
   "cell_type": "markdown",
   "metadata": {},
   "source": [
    "## Notes\n",
    "\n",
    "### 3.12 Notes\n",
    "\n",
    "#### What is a procedure and a parameter?\n",
    "\n",
    "A procedure is a named group of programming instructions that may have parameters and return values.\n",
    "\n",
    "Procedures can be reffered to as method or function depending on the programing language.\n",
    "- A procedrure call interrupts an execution of statements and makes the program execute the statements in the procedure.\n",
    "- Parameters are input values of a procedure.\n",
    "\n",
    "Arguements specifcy the values of the parameters when a procedure is called.\n",
    "\n",
    "If you have a set of statements and inside there is a procedure then when it reaches that procedure it will excute that procedure and then go back to the rest of the statments.\n",
    "\n",
    "If you see a return statement you automatically end the procedure even if there is more statements\n",
    "- Procedures are that a catch-all term for codes used to identify what was done to or given to a patient\n",
    "\n",
    "If you have a set of statements in a procedure the statement will go thought the top of the procedure to the bottom in order.\n",
    "\n",
    "### 3.13 Notes\n",
    "\n",
    "- Procedure: is a named group of programming instructions that serves a purpose\n",
    "- Parameter: are input values of a procedur\n",
    "- There are two types of procedures, one that returns a value or some type of data and on that just executes a block of statements\n",
    "- Modularity: the practice of breaking a complex program into smaller, independent parts or modules that can be used and reused in different parts of the program\n",
    "\n",
    "#### Creating a Procedure\n",
    "\n",
    "1. When you are picking a name for the procedure it must be descriptive\n",
    "2. See if you need any parameters for this procedure (what data do you need to accomplish my goal? What king of information am I going to need?)\n",
    "3. 2 of the parameters in the example below could be the quizGrade and currentPoints (need this data)\n",
    "\n",
    "One common type of abstraction is procedrual abstraction, which provides a name for a process and allows a procedure to be only knowing what it doe,not how it does it. The subdivision of a computer program into sepearate subprogrames is called modularity.\n",
    "\n",
    "#### How do we make our procedure purposeful and consice\n",
    "- to make a procedure serve a purpose it should be able to have multiple functions\n",
    "- Also to keep a procedure maximizing capability it should be simple and reduced to get the final result\n",
    "\n",
    "#### What is important to do while writing procedures\n",
    "\n",
    "It is important to understand you procudeures procedure does when creating one as it will help you create a impactful procedure\n",
    "\n"
   ]
  }
 ],
 "metadata": {
  "kernelspec": {
   "display_name": "Python 3.8.10 64-bit",
   "language": "python",
   "name": "python3"
  },
  "language_info": {
   "name": "python",
   "version": "3.8.10"
  },
  "orig_nbformat": 4,
  "vscode": {
   "interpreter": {
    "hash": "916dbcbb3f70747c44a77c7bcd40155683ae19c65e1c03b4aa3499c5328201f1"
   }
  }
 },
 "nbformat": 4,
 "nbformat_minor": 2
}
