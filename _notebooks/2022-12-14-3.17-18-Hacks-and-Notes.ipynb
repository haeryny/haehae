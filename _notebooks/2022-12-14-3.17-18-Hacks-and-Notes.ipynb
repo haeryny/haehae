{
 "cells": [
  {
   "attachments": {},
   "cell_type": "markdown",
   "metadata": {},
   "source": [
    "# Video 3.17-18 Hacks\n",
    "\n",
    "- toc: true \n",
    "- badges: true\n",
    "- sticky_rank: 1\n",
    "- author: Haeryn Yu\n",
    "- categories: [week6, notes]"
   ]
  },
  {
   "attachments": {},
   "cell_type": "markdown",
   "metadata": {},
   "source": [
    "## Notes\n",
    "\n",
    "### 3.17.1\n",
    "- A problem is a description of a task that may or may not be able to be solved through the use of an algorithm. An instance of a problem includes a specific input. One example of this type of problem is a sorting problem.\n",
    "- A decision problem is a problem with a binary answer (yes or no). An optimization problem is a problem with the objective of finding the BEST solution amongst many possibilities to solve a problem.\n",
    "- An algorithm's efficiency is determine through formal or mathematical reasoning.\n",
    "\n",
    "It is important to know which algorithm is the most efficient and if the algorithm can work for that specific situation. \n",
    "\n",
    "### 3.17.2\n",
    "An algorithm is a process or set of rules to be followed in calculations or other problem-solving operations.\n",
    "\n",
    "There are four different types of algorithms.\n",
    "- 1 step: The first step consists of an integer being multiplied by a variable 'n'. An example of this could be 5 * n.\n",
    "    - Linear\n",
    "- 2 step: A two-step algorithm consists of an integer to the power of the variable 'n'.\n",
    "    - Exponential\n",
    "- 3 step: A three-step algorithm is an algorithm where there is a variable multiplied by an integer, all to the power of 2.\n",
    "    - Square\n",
    "- 4 step: A four-step algorithm is a variable factorial. For instance, 5! = 5 4 3 2 1 = 120.\n",
    "    - Factorial\n",
    "\n",
    "When an algorithm is linear or square, it runs in a reasonable amount of time. However, if the algorithm is exponential or factorial, they are considered to be run in an unreasonable amount of time. A \"reasonable amount of time\" is when the algorithm increases by smaller values instead of jumping from a lower value to a much higher value.\n",
    "\n",
    "#### Run Times\n",
    "\n",
    "We can categorize the run time of an algorithm according to how the number of steps increases as the input size increases. Does it always take the same amount of time? That's a constant increase, a very fast run time. Does it always require looking at every possible permutation of the input? That's an exponential increase, a very slow run time. Most run times are somewhere between.\n",
    "\n",
    "Constant Time\n",
    "\n",
    "When an algorithm runs in constant time, it means that it always takes a fixed number of steps, no matter how large the input size increases.\n",
    "\n",
    "Linear Time \n",
    "\n",
    "When an algorithm grows in linear time, its number of steps increases in direct proportion to the input size.\n",
    "\n",
    "Quadratic Time\n",
    "\n",
    "When an algorithm grows in quadratic time, its steps increase in proportion to the input size squared. Several list sorting algorithms run in quadratic time, like selection sort. That algorithm starts from the front of the list, then keeps finding the next smallest value in the list and swapping it with the current value.\n",
    "\n",
    "Exponential Time\n",
    "\n",
    "When an algorithm grows in superpolynomial time, its number of steps increases faster than a polynomial function of the input size. An algorithm often requires superpolynomial time when it must look at every permutation of values. \n",
    "\n",
    "Polynomial time describes any run time that does not increase faster than n^k which includes Constant time, Quadratic time, and other higher degree polynomials. Superpolynomial time describes any run time that does increase faster than n^k which includes Exponential time and factorial time. So polynomial is considered reasonable. \n",
    "\n",
    "### 3.18\n",
    "\n",
    "What is a decidable problem?\n",
    "\n",
    "These are problems for which algorithms can be written to solve/produce a correct output for all possible inputs.\n",
    "\n",
    "What is an undecidable problem?\n",
    "\n",
    "These are problems for which no algorithms can be built that can provide a correct yes or no answer. Undecidable problems may have some instances of algorithmic solutions, but there are no algorithmic solutions that can solve all instances of the problem. \n",
    "\n",
    "#### Vocabulary\n",
    "\n",
    "- Undecidable problem:problems for which no algorithms can be built that can provide a correct yes or no answer or a solution\n",
    "- Decidable problem:problems for which algorthms could be written to solve/produce a correct output for all inputs."
   ]
  },
  {
   "attachments": {},
   "cell_type": "markdown",
   "metadata": {},
   "source": [
    "## Hacks"
   ]
  }
 ],
 "metadata": {
  "kernelspec": {
   "display_name": "Python 3",
   "language": "python",
   "name": "python3"
  },
  "language_info": {
   "name": "python",
   "version": "3.8.10 (default, Jun 22 2022, 20:18:18) \n[GCC 9.4.0]"
  },
  "orig_nbformat": 4,
  "vscode": {
   "interpreter": {
    "hash": "916dbcbb3f70747c44a77c7bcd40155683ae19c65e1c03b4aa3499c5328201f1"
   }
  }
 },
 "nbformat": 4,
 "nbformat_minor": 2
}
