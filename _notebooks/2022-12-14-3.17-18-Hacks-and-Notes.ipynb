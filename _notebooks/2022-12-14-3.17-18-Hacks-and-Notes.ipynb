{
 "cells": [
  {
   "attachments": {},
   "cell_type": "markdown",
   "metadata": {},
   "source": [
    "# Video 3.17-18 Hacks\n",
    "\n",
    "- toc: true \n",
    "- badges: true\n",
    "- sticky_rank: 1\n",
    "- author: Haeryn Yu\n",
    "- categories: [week6, notes]"
   ]
  },
  {
   "attachments": {},
   "cell_type": "markdown",
   "metadata": {},
   "source": [
    "## Notes\n",
    "\n",
    "### 3.17.1\n",
    "- A problem is a description of a task that may or may not be able to be solved through the use of an algorithm. An instance of a problem includes a specific input. One example of this type of problem is a sorting problem.\n",
    "- A decision problem is a problem with a binary answer (yes or no). An optimization problem is a problem with the objective of finding the BEST solution amongst many possibilities to solve a problem.\n",
    "- An algorithm's efficiency is determine through formal or mathematical reasoning.\n",
    "\n",
    "It is important to know which algorithm is the most efficient and if the algorithm can work for that specific situation. \n",
    "\n",
    "### 3.17.2\n",
    "An algorithm is a process or set of rules to be followed in calculations or other problem-solving operations.\n",
    "\n",
    "There are four different types of algorithms.\n",
    "- 1 step: The first step consists of an integer being multiplied by a variable 'n'. An example of this could be 5 * n.\n",
    "    - Linear\n",
    "- 2 step: A two-step algorithm consists of an integer to the power of the variable 'n'.\n",
    "    - Exponential\n",
    "- 3 step: A three-step algorithm is an algorithm where there is a variable multiplied by an integer, all to the power of 2.\n",
    "    - Square\n",
    "- 4 step: A four-step algorithm is a variable factorial. For instance, 5! = 5 4 3 2 1 = 120.\n",
    "    - Factorial\n",
    "\n",
    "When an algorithm is linear or square, it runs in a reasonable amount of time. However, if the algorithm is exponential or factorial, they are considered to be run in an unreasonable amount of time. A \"reasonable amount of time\" is when the algorithm increases by smaller values instead of jumping from a lower value to a much higher value.\n",
    "\n",
    "#### Run Times\n",
    "\n",
    "We can categorize the run time of an algorithm according to how the number of steps increases as the input size increases. Does it always take the same amount of time? That's a constant increase, a very fast run time. Does it always require looking at every possible permutation of the input? That's an exponential increase, a very slow run time. Most run times are somewhere between.\n",
    "\n",
    "Constant Time\n",
    "\n",
    "When an algorithm runs in constant time, it means that it always takes a fixed number of steps, no matter how large the input size increases.\n",
    "\n",
    "Linear Time \n",
    "\n",
    "When an algorithm grows in linear time, its number of steps increases in direct proportion to the input size.\n",
    "\n",
    "Quadratic Time\n",
    "\n",
    "When an algorithm grows in quadratic time, its steps increase in proportion to the input size squared. Several list sorting algorithms run in quadratic time, like selection sort. That algorithm starts from the front of the list, then keeps finding the next smallest value in the list and swapping it with the current value.\n",
    "\n",
    "Exponential Time\n",
    "\n",
    "When an algorithm grows in superpolynomial time, its number of steps increases faster than a polynomial function of the input size. An algorithm often requires superpolynomial time when it must look at every permutation of values. \n",
    "\n",
    "Polynomial time describes any run time that does not increase faster than n^k which includes Constant time, Quadratic time, and other higher degree polynomials. Superpolynomial time describes any run time that does increase faster than n^k which includes Exponential time and factorial time. So polynomial is considered reasonable. \n",
    "\n",
    "### 3.18\n",
    "\n",
    "What is a decidable problem?\n",
    "\n",
    "These are problems for which algorithms can be written to solve/produce a correct output for all possible inputs.\n",
    "\n",
    "What is an undecidable problem?\n",
    "\n",
    "These are problems for which no algorithms can be built that can provide a correct yes or no answer. Undecidable problems may have some instances of algorithmic solutions, but there are no algorithmic solutions that can solve all instances of the problem. \n",
    "\n",
    "#### Vocabulary\n",
    "\n",
    "- Undecidable problem:problems for which no algorithms can be built that can provide a correct yes or no answer or a solution\n",
    "- Decidable problem:problems for which algorthms could be written to solve/produce a correct output for all inputs."
   ]
  },
  {
   "attachments": {},
   "cell_type": "markdown",
   "metadata": {},
   "source": [
    "## Hacks"
   ]
  },
  {
   "attachments": {},
   "cell_type": "markdown",
   "metadata": {},
   "source": [
    "### Hack 1 \n",
    "Please write a short 1-2 sentence explanation describing the difference between decidable and undecidable problems. Make sure to provide at least one example of each.\n",
    "\n",
    "Answer: \n",
    "A decidable problem is a problem for which algorithms can be written to solve/produce a correct output for all possible inputs. An example is if checking if a specific number is odd or even. "
   ]
  },
  {
   "cell_type": "code",
   "execution_count": 2,
   "metadata": {},
   "outputs": [
    {
     "name": "stdout",
     "output_type": "stream",
     "text": [
      "is odd\n"
     ]
    }
   ],
   "source": [
    "num = 7\n",
    "\n",
    "if num % 2 == 1: \n",
    "    print(\"is odd\") \n",
    "else:\n",
    "    print(\"is even\") "
   ]
  },
  {
   "attachments": {},
   "cell_type": "markdown",
   "metadata": {},
   "source": [
    "An undecidable problem is a problem for which no algorithms can be built that can provide a correct yes or no answer. An example is trying to find what the weather is going to be in a million years, no one can know because no one has traveled a million years. "
   ]
  },
  {
   "attachments": {},
   "cell_type": "markdown",
   "metadata": {},
   "source": [
    "### Hack 2\n",
    "Which of the following is a 3 step algorithm?\n",
    "\n",
    "Answer:\n",
    "It would be C because a 3 step algorithm is an algorithm where there is a variable multiplied by an integer, all to the power of 2. and C is (3 x 8)^2 so n = 8 and it squared so it is 3 step."
   ]
  },
  {
   "attachments": {},
   "cell_type": "markdown",
   "metadata": {},
   "source": [
    "### Hack 3\n",
    "Rewrite this JavaScript Code in a more efficient way\n",
    "\n",
    "Answer: When there were two else's I just made one shorter and made it more efficient. I tried to use the recursion method but that did not work. I researched more about the recursion method and I realized that it is a method of solving a computational problem where the solution depends on solutions to smaller instances of the same problem. Recursion solves such recursive problems by using functions that call themselves from within their own code."
   ]
  },
  {
   "cell_type": "code",
   "execution_count": null,
   "metadata": {
    "vscode": {
     "languageId": "javascript"
    }
   },
   "outputs": [],
   "source": [
    "function peak_finder(array)\n",
    "  let counter = 0\n",
    "  let peak = 0\n",
    "  let peak_index =0\n",
    "  while (counter <= array.length){\n",
    "    console.log(counter)\n",
    "  if (counter === 0){\n",
    "    if (a[0]>=a[1]){\n",
    "      peak = a[0]\n",
    "      peak_index = counter\n",
    "      counter = array.length\n",
    "      return `The ${counter-1} indexed number, ${peak} is a peak`\n",
    "    }else{\n",
    "      counter+=1\n",
    "    }\n",
    "   }else{\n",
    "      if (a[counter]> a[counter+1] && a[counter]> a[counter-1]){\n",
    "      peak = a[counter]\n",
    "      peak_index = counter\n",
    "      counter = array.length\n",
    "      if (a[counter]> a[counter+1] && a[counter]> a[counter-1]){\n",
    "        peak = a[counter]\n",
    "        peak_index = counter\n",
    "        counter = array.length\n",
    "      return `The ${counter-1} indexed number, ${peak} is a peak`\n",
    "    }else{\n",
    "      counter += 1\n",
    "    }\n",
    "  }\n",
    "}\n",
    "}"
   ]
  },
  {
   "attachments": {},
   "cell_type": "markdown",
   "metadata": {},
   "source": [
    "### Hack 4\n",
    "Rewrite this Python Code in a more efficient way\n",
    "\n",
    "Answer: You can just use the sort function instead of doing all the code to do it from scratch. "
   ]
  },
  {
   "cell_type": "code",
   "execution_count": 6,
   "metadata": {},
   "outputs": [
    {
     "name": "stdout",
     "output_type": "stream",
     "text": [
      "[0, 1, 2, 3, 4, 5, 6, 7, 8, 9]\n"
     ]
    }
   ],
   "source": [
    "data = [9, 1, 7, 6, 2, 8, 5, 3, 4, 0]\n",
    "data.sort()\n",
    "\n",
    "print(data)"
   ]
  },
  {
   "attachments": {},
   "cell_type": "markdown",
   "metadata": {},
   "source": [
    "### Hack 5\n",
    "Rewrite this Python Code in a more efficient way\n",
    "\n",
    "Answer: You can just use the permutations function instead of doing all the code from scratch."
   ]
  },
  {
   "cell_type": "code",
   "execution_count": 7,
   "metadata": {},
   "outputs": [
    {
     "name": "stdout",
     "output_type": "stream",
     "text": [
      "(1, 2, 3)\n",
      "(1, 3, 2)\n",
      "(2, 1, 3)\n",
      "(2, 3, 1)\n",
      "(3, 1, 2)\n",
      "(3, 2, 1)\n"
     ]
    }
   ],
   "source": [
    "from itertools import permutations\n",
    "\n",
    "comb = permutations([1, 2, 3], 3)\n",
    "  \n",
    "for i in comb:\n",
    "    print(i)"
   ]
  }
 ],
 "metadata": {
  "kernelspec": {
   "display_name": "Python 3",
   "language": "python",
   "name": "python3"
  },
  "language_info": {
   "codemirror_mode": {
    "name": "ipython",
    "version": 3
   },
   "file_extension": ".py",
   "mimetype": "text/x-python",
   "name": "python",
   "nbconvert_exporter": "python",
   "pygments_lexer": "ipython3",
   "version": "3.8.10 (default, Jun 22 2022, 20:18:18) \n[GCC 9.4.0]"
  },
  "orig_nbformat": 4,
  "vscode": {
   "interpreter": {
    "hash": "916dbcbb3f70747c44a77c7bcd40155683ae19c65e1c03b4aa3499c5328201f1"
   }
  }
 },
 "nbformat": 4,
 "nbformat_minor": 2
}
