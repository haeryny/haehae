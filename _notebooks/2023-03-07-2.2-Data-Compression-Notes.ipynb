{
 "cells": [
  {
   "attachments": {},
   "cell_type": "markdown",
   "metadata": {},
   "source": [
    "#  Unit 2.2 Data Compression Notes\n",
    "- toc: true\n",
    "- categories: []\n",
    "- week: 25"
   ]
  },
  {
   "attachments": {},
   "cell_type": "markdown",
   "metadata": {},
   "source": [
    "# AP PREP\n",
    "## Data Compression\n",
    "- Data compression can reduce the size of transmitted or stored data and the fewer the bits does not mean that there is less information. \n",
    "    - The amount of size reduction from compression depends on both the amount of redundancy in the original data representation and the compression algorithm applied. \n",
    "\n",
    "### Lossless Data\n",
    "Lossless data compression algorithms can usually reduce the number of bits stored or transmitted while guaranteeing complete recontrstuction of the original data. \n",
    "- In situations where quality or ability to reconstruct the original is maximally important, lossless is better\n",
    "- It reduces the number of bits stored or transmitted while guaranteeing  complete reconstruction of the original data\n",
    "\n",
    "### Lossy Data\n",
    "Lossy data compression algorithms can significantly reduce the number of bits stored or transmitted but only allow reconstruction of an approximation of the original data\n",
    "- In situations where minimizing data size or transmission time is maximally important, lossy is better\n",
    "- It significantly reduces the number of bits stored or transmitted but only allow reconstruction of an approximation of the original data\n",
    "\n",
    "#### Collegeboard Quiz\n",
    "\n",
    "![image](https://user-images.githubusercontent.com/111464920/223863684-4f94a8f0-307b-4c35-bf47-f931b719c24e.png)\n",
    "1. Which of the following is an advantage of a lossless compression algorithm over a lossy compression algorithm?\n",
    "\n",
    "**Answer: B** A lossless compression algorithm can guarantee reconstruction of original data, while a lossy compression algorithm cannot.\n",
    "\n",
    "Explanation: Lossless compression algorithms are guaranteed to be able to reconstruct the original data, while lossy compression algorithms are not.\n",
    "\n",
    "2. A user wants to save a data file on an online storage site. The user wants to reduce the size of the file, if possible, and wants to be able to completely restore the file to its original version. Which of the following actions best supports the user’s needs?\n",
    "\n",
    "**Answer: A** Compressing the file using a lossless compression algorithm before uploading it.\n",
    "\n",
    "Explanation: Lossless compression algorithms allow for complete reconstruction of the original data and typically reduce the size of the data.\n",
    "\n",
    "3. A programmer is developing software for a social media platform. The programmer is planning to use compression when users send attachments to other users. Which of the following is a true statement about the use of compression?\n",
    "\n",
    "**Answer: C** Lossy compression of an image file generally provides a greater reduction in transmission time than lossless compression does.\n",
    "\n",
    "Explanation: Although fewer bits may be stored, information is not necessarily lost when lossy compression is applied to an image.\n",
    "\n",
    "## Images\n",
    "\n",
    "![jpeg-home](https://user-images.githubusercontent.com/111464920/223864494-19f64e3b-2250-4342-8e8c-d00ab13748b6.jpg)\n",
    "\n",
    "This is a jpeg image and this is good for lossy algorithm. The compression is applied to the actual pixel data. That data can't be magically reconstructed when the image is opened again. In other words, compression will permanently reduce the quality of a JPEG image. This is why JPEG compression is referred to as “lossy” compression.\n",
    "\n",
    "![png-transparent-two-checked-flags-racing-flags-auto-racing-racing-flag-miscellaneous-game-flag-png-free-download](https://user-images.githubusercontent.com/111464920/223864852-a6ef8320-ee73-4a85-a48f-40dfff4a570b.png) \n",
    "\n",
    "This is a png image and this is good for lossless algorithm because the image data can be compressed without losing any information. This is different from other compression formats, such as JPEG, which use a lossy compression algorithm that discards some of the image data to achieve a smaller file size.\n",
    "\n"
   ]
  },
  {
   "attachments": {},
   "cell_type": "markdown",
   "metadata": {},
   "source": [
    "# Project Addition\n",
    "\n"
   ]
  }
 ],
 "metadata": {
  "language_info": {
   "name": "python"
  },
  "orig_nbformat": 4
 },
 "nbformat": 4,
 "nbformat_minor": 2
}
