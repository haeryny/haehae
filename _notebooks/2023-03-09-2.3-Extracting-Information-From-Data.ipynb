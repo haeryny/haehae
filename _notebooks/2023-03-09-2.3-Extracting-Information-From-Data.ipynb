{
 "cells": [
  {
   "attachments": {},
   "cell_type": "markdown",
   "metadata": {},
   "source": [
    "#  Extracting Information From Data\n",
    "- toc: true\n",
    "- categories: []\n",
    "- week: 26"
   ]
  },
  {
   "attachments": {},
   "cell_type": "markdown",
   "metadata": {},
   "source": [
    "# AP PREP\n",
    "## The Extraction from Data\n",
    "The ability to process data depends on the capabilities of the users and their tools. Data sets pose challenges regarless of size, such as:\n",
    "- the need to clean data\n",
    "- incomplete data\n",
    "- invalid data\n",
    "- the need to combine data sources\n",
    "\n",
    "### Collecting Data\n",
    "- Issues to consider:\n",
    "    - Source\n",
    "        - Do you need more sources?\n",
    "    - Tools to analyze Data\n",
    "\n",
    "### Processing Data\n",
    "- It is affected by size\n",
    "    - Can one computer handle the task\n",
    "        - May need to use parallel processing\n",
    "        - Use two or more processors to handle different parts of the task\n",
    "\n",
    "### Potential Bias\n",
    "- Intentional: \n",
    "    - Who collected the data?\n",
    "    - Do they have an agenda?\n",
    "- Unintentional:\n",
    "    - How is the data collected?\n",
    "    - Who collected the data?\n",
    "\n",
    "### Data Cleaning\n",
    "- Identifying incomplete, corrup, duplicate, or inaccurate records\n",
    "- Replacing, modifying, or deleting the \"dirty\" data\n",
    "\n",
    "## Collegeboard Quiz\n",
    "![image](https://user-images.githubusercontent.com/111464920/224586095-3a059774-633e-403b-8e6e-24e35567d9dc.png)\n",
    "\n",
    "1. A researcher is analyzing data about students in a school district to determine whether there is a relationship between grade point average and number of absences. The researcher plans on compiling data from several sources to create a record for each student.\n",
    "\n",
    "**Answer: A** A unique identifier would be required in order to distinguish between two students with the same first and last names.\n",
    "\n",
    "2. A team of researchers wants to create a program to analyze the amount of pollution reported in roughly 3,000 counties across the United States. The program is intended to combine county data sets and then process the data. Which of the following is most likely to be a challenge in creating the program?\n",
    "\n",
    "**Answer: B**  It will be a challenge to clean the data from the different counties to make the data uniform. The way pollution data is captured and organized may vary significantly from county to county.\n",
    "\n",
    "3. A student is creating a Web site that is intended to display information about a city based on a city name that a user enters in a text field. Which of the following are likely to be challenges associated with processing city names that users might provide as input?\n",
    "\n",
    "**Answer: B and C** Different users may abbreviate city names differently. This may require the student to clean the data to make it uniform before it can be processed. Misspelled city names will not be an exact match to information stored by the Web site. This may require the student to clean the data to make it uniform before it can be processed.\n",
    "\n",
    "4. Which of the following additional pieces of information would be most useful in determining the artist with the greatest attendance during a particular month?\n",
    "\n",
    "**Answer: A** The attendance for a particular show can be calculated dividing the total dollar amount of all tickets sold by the average ticket price.\n",
    "\n",
    "5. A camera mounted on the dashboard of a car captures an image of the view from the driver’s seat every second. Each image is stored as data. Along with each image, the camera also captures and stores the car’s speed, the date and time, and the car’s GPS location as metadata. Which of the following can best be determined using only the data and none of the metadata?\n",
    "\n",
    "**Answer: D** Determining the number of bicycles the car encountered would require the use of image recognition software to examine the images collected by the camera. The images are the data collected and no metadata would be required.\n",
    "\n",
    "6. Which of the following questions about the students who responded to the survey can the teacher answer by analyzing the survey results?\n",
    "\n",
    "**Answer: C** Question I can be answered because the teacher can detect a correlation between responses to questions 1 and 3 on the survey. Question II can be answered because the teacher can detect a correlation between responses to questions 1 and 2 on the survey. Question III cannot be answered because the survey is anonymous and the teacher cannot compare student grades with the responses to the survey questions."
   ]
  }
 ],
 "metadata": {
  "language_info": {
   "name": "python"
  },
  "orig_nbformat": 4
 },
 "nbformat": 4,
 "nbformat_minor": 2
}
