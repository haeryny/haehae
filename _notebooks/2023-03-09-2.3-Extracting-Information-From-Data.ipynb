{
 "cells": [
  {
   "attachments": {},
   "cell_type": "markdown",
   "metadata": {},
   "source": [
    "#  Extracting Information From Data\n",
    "- toc: true\n",
    "- categories: []\n",
    "- week: 26"
   ]
  },
  {
   "attachments": {},
   "cell_type": "markdown",
   "metadata": {},
   "source": [
    "# AP PREP\n",
    "## The Extraction from Data\n",
    "The ability to process data depends on the capabilities of the users and their tools. Data sets pose challenges regarless of size, such as:\n",
    "- the need to clean data\n",
    "- incomplete data\n",
    "- invalid data\n",
    "- the need to combine data sources\n",
    "\n",
    "### Collecting Data\n",
    "- Issues to consider:\n",
    "    - Source\n",
    "        - Do you need more sources?\n",
    "    - Tools to analyze Data\n",
    "\n",
    "### Processing Data\n",
    "- It is affected by size\n",
    "    - Can one computer handle the task\n",
    "        - May need to use parallel processing\n",
    "        - Use two or more processors to handle different parts of the task\n",
    "\n",
    "### Potential Bias\n",
    "- Intentional: \n",
    "    - Who collected the data?\n",
    "    - Do they have an agenda?\n",
    "- Unintentional:\n",
    "    - How is the data collected?\n",
    "    - Who collected the data?\n",
    "\n",
    "### Data Cleaning\n",
    "- Identifying incomplete, corrup, duplicate, or inaccurate records\n",
    "- Replacing, modifying, or deleting the \"dirty\" data\n",
    "\n",
    "## Collegeboard Quiz\n",
    "\n",
    "\n"
   ]
  }
 ],
 "metadata": {
  "language_info": {
   "name": "python"
  },
  "orig_nbformat": 4
 },
 "nbformat": 4,
 "nbformat_minor": 2
}
