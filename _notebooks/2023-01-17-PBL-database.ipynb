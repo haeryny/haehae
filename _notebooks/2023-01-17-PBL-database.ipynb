{
 "cells": [
  {
   "attachments": {},
   "cell_type": "markdown",
   "metadata": {},
   "source": [
    "# Database/Model, Backend, OOP, Python\n",
    "- title: Database/Model, Backend, OOP, Python\n",
    "- badges: false\n",
    "- toc: true\n",
    "- categories: [week19]"
   ]
  },
  {
   "cell_type": "markdown",
   "metadata": {},
   "source": [
    "## Database and Table Terms\n",
    "> The foundations of database is defining one or more ***Tables***.  In Python, a database can be constructed using the foundations we learned in modeling a Class.\n",
    "* A \"Table\" is a Model/Schema within a Database.  \n",
    "* A \"Table\" definition in Python/SQLAlchemy is manifested by defining a \"***Class***\" and \"***Attributes***\" in Python.  \n",
    "* A Python ***Class can inherit database functionality*** from SQLAlchemy.  This is a method Python developers use to turn a Class into a Table within a ***SQL Database***.\n",
    "* Writing methods in the Class for Create, Read, Update, Delete (***CRUD***) is how a developer initiates database operations."
   ]
  },
  {
   "attachments": {},
   "cell_type": "markdown",
   "metadata": {},
   "source": [
    "### Reference\n",
    "- [SQLAlchemy](https://www.sqlalchemy.org/)\n",
    "- [Python Backend with Flask, SQLite](https://www.ffnext.io/blog/python-backend-with-flask-for-beginners#:~:text=You%20can%20create%20an%20HTTP,command%3A%20python%20app.py.)\n",
    "- [Python Backend starting Controller](https://www.ffnext.io/blog/python-backend-with-flask-for-beginners#:~:text=You%20can%20create%20an%20HTTP,command%3A%20python%20app.py.)"
   ]
  },
  {
   "attachments": {},
   "cell_type": "markdown",
   "metadata": {},
   "source": [
    "### Outline for Backend Model and Database \n",
    "> ***OOP modeling with SQLAlchemy*** enables CRUD operations.\n",
    "\n",
    "1. [Users Table Schema](https://github.com/nighthawkcoders/flask_portfolio/blob/main/model/users.py#L72-L80)\n",
    "\n",
    "2. [Database Properties](https://github.com/nighthawkcoders/flask_portfolio/blob/main/model/users.py#L72-L80)\n",
    "\n",
    "3. [Initial Database Setup (call)](https://github.com/nighthawkcoders/flask_portfolio/blob/main/main.py#L38-L41)\n",
    "\n",
    "4. [Initial Database Setup (add records)](https://github.com/nighthawkcoders/flask_portfolio/blob/main/main.py#L38-L41)\n",
    "\n",
    "5. [OOP CRUD operations](https://github.com/nighthawkcoders/flask_portfolio/blob/main/model/users.py#L72-L80)"
   ]
  },
  {
   "attachments": {},
   "cell_type": "markdown",
   "metadata": {},
   "source": [
    "#### User Table Schema\n",
    "> The db.Model is inherited into the `class User(db.model)`, Each `db.Column` is provided properties according to capabilities of SQL.  See __init__.py for db object definition.\n",
    "\n",
    "```python\n",
    "db = SQLAlchemy(app)\n",
    "```"
   ]
  },
  {
   "cell_type": "code",
   "execution_count": null,
   "metadata": {},
   "outputs": [],
   "source": [
    "\"\"\" database dependencies to support sqliteDB examples \"\"\"\n",
    "\n",
    "from __init__ import app, db\n",
    "from sqlalchemy.exc import IntegrityError\n",
    "from werkzeug.security import generate_password_hash, check_password_hash\n",
    "\n",
    "\n",
    "\"\"\" Key additions to User Class for Schema definition \"\"\"\n",
    "\n",
    "# Define the User class to manage actions in the 'users' table\n",
    "# -- Object Relational Mapping (ORM) is the key concept of SQLAlchemy\n",
    "# -- a.) db.Model is like an inner layer of the onion in ORM\n",
    "# -- b.) User represents data we want to store, something that is built on db.Model\n",
    "# -- c.) SQLAlchemy ORM is layer on top of SQLAlchemy Core, then SQLAlchemy engine, SQL\n",
    "class User(db.Model):\n",
    "    __tablename__ = 'users'  # table name is plural, class name is singular\n",
    "\n",
    "    # Define the User schema with \"vars\" from object\n",
    "    id = db.Column(db.Integer, primary_key=True)\n",
    "    _name = db.Column(db.String(255), unique=False, nullable=False)\n",
    "    _uid = db.Column(db.String(255), unique=True, nullable=False)\n",
    "    _password = db.Column(db.String(255), unique=False, nullable=False)\n",
    "    _dob = db.Column(db.Date)\n",
    "\n",
    "    # Defines a relationship between User record and Notes table, one-to-many (one user to many notes)\n",
    "    posts = db.relationship(\"Post\", cascade='all, delete', backref='users', lazy=True)\n",
    "\n",
    "    # constructor of a User object, initializes the instance variables within object (self)\n",
    "    def __init__(self, noc, date=date.today(), homeworkName):\n",
    "        self._noc = noc    # variables with self prefix become part of the object, \n",
    "        self._homeworkName = homeworkName\n",
    "        self._date = date"
   ]
  },
  {
   "cell_type": "code",
   "execution_count": null,
   "metadata": {},
   "outputs": [],
   "source": [
    "# returns self or None on error\n",
    "def create(self):\n",
    "    try:\n",
    "        # creates a person object from User(db.Model) class, passes initializers\n",
    "        db.session.add(self)  # add prepares to persist person object to Users table\n",
    "        db.session.commit()  # SqlAlchemy \"unit of work pattern\" requires a manual commit\n",
    "        return self\n",
    "    except IntegrityError:\n",
    "        db.session.remove()\n",
    "        return None\n",
    "\n",
    "# CRUD read converts self to dictionary\n",
    "# returns dictionary\n",
    "def read(self):\n",
    "    return {\n",
    "        \"id\": self.id,\n",
    "        \"name\": self.name,\n",
    "        \"uid\": self.uid,\n",
    "        \"dob\": self.dob,\n",
    "        \"age\": self.age,\n",
    "        \"posts\": [post.read() for post in self.posts]\n",
    "    }\n",
    "\n",
    "# CRUD update: updates user name, password, phone\n",
    "# returns self\n",
    "def update(self, name=\"\", uid=\"\", password=\"\"):\n",
    "    \"\"\"only updates values with length\"\"\"\n",
    "    if len(name) > 0:\n",
    "        self.name = name\n",
    "    if len(uid) > 0:\n",
    "        self.uid = uid\n",
    "    if len(password) > 0:\n",
    "        self.set_password(password)\n",
    "    db.session.commit()\n",
    "    return self\n",
    "\n",
    "# CRUD delete: remove self\n",
    "# None\n",
    "def delete(self):\n",
    "    db.session.delete(self)\n",
    "    db.session.commit()\n",
    "    return None"
   ]
  },
  {
   "cell_type": "code",
   "execution_count": null,
   "metadata": {},
   "outputs": [],
   "source": [
    "if __name__ == \"__main__\":\n",
    "    u1 = User(name='Sean Y', uid='yeung', password='123yeung', dob=date(1995, 2, 3), height='10 feet')\n",
    "    u2 = User(name='Ellie P', uid='ellie', password='123ellie', dob=date(2007, 11, 1), height='10 feet')\n",
    "    u3 = User(name='Kaylee H', uid='kaylee', password='123kaylee', dob=date(2005, 10, 30), height='10 feet')\n",
    "    u4 = User(name='Theo H', uid='theo', password='123theo', dob=date(2006, 1, 31), height='10 feet')"
   ]
  },
  {
   "cell_type": "code",
   "execution_count": null,
   "metadata": {},
   "outputs": [],
   "source": [
    "from flask import Flask\n",
    "from flask_login import LoginManager\n",
    "from flask_sqlalchemy import SQLAlchemy\n",
    "from flask_migrate import Migrate\n",
    "\n",
    "\"\"\"\n",
    "These object can be used throughout project.\n",
    "1.) Objects from this file can be included in many blueprints\n",
    "2.) Isolating these object definitions avoids duplication and circular dependencies\n",
    "\"\"\"\n",
    "\n",
    "# Setup of key Flask object (app)\n",
    "app = Flask(__name__)\n",
    "# Setup SQLAlchemy object and properties for the database (db)\n",
    "dbURI = 'sqlite:////volumes/flask_portfolio.db'\n",
    "app.config['SQLALCHEMY_TRACK_MODIFICATIONS'] = False\n",
    "app.config['SQLALCHEMY_DATABASE_URI'] = dbURI\n",
    "app.config['SECRET_KEY'] = 'SECRET_KEY'\n",
    "db = SQLAlchemy(app)\n",
    "Migrate(app, db)\n",
    "\n",
    "# Images storage\n",
    "app.config['MAX_CONTENT_LENGTH'] = 5 * 1024 * 1024  # maximum size of uploaded content\n",
    "app.config['UPLOAD_EXTENSIONS'] = ['.jpg', '.png', '.gif']  # supported file types\n",
    "app.config['UPLOAD_FOLDER'] = 'volumes/uploads/'  # location of user uploaded content\n"
   ]
  },
  {
   "attachments": {},
   "cell_type": "markdown",
   "metadata": {},
   "source": [
    "## Hacks\n",
    "> The ***Big Picture*** purpose of this hack is to build a database.  Being able to create an SQLite table and populate test data within it is the major goal.  To do this effectively it is imperative to show the following.\n",
    "1. Build Schema for a table, make a new `model` file and use `users.py` as an example. Start slow and simple and build up.\n",
    "2. Build an `initXXXXX()` method and use it to add preliminary/test data to the table.  Once again use users.py as an example.\n",
    "3. Make a 30-60 second video where you show a Debugging session of making new rows in the table. Use `sqlite` marketplace tools and/or sqlite3 command line tool to show success in creating table and adding data."
   ]
  },
  {
   "attachments": {},
   "cell_type": "markdown",
   "metadata": {},
   "source": [
    "## Hack Helper\n",
    "> Here are some tips.\n",
    "\n",
    "- Become familiar with `initUsers()`.  Observe it is called/activated from `main.py`.  This function activates after you run the `main.py` and activate the web application in the browser.  Observe that the `sqlite.db` file will appear in the volumes directory in conjunction with home screen of site appearing in browser.  \n",
    "\n",
    "- Delete sqlite.db from volumes directory on your development machine.  Set `breakpoint` on initUsers() and run `main.py using debug`.  Use the step into option on the debugger and observe the creation of data. \n",
    "\n",
    "```python\n",
    "@app.before_first_request\n",
    "def activate_job():\n",
    "    initJokes()\n",
    "    initUsers()\n",
    "```\n",
    "\n",
    "- Make your own `XXXXX.py` file under `model` directory.  Follow `users.py` and develop your own schema from the OOP code you did in last Hacks.  Follow the pattern in `users.py` to make a initXXXX() function top populate some test data.\n",
    "\n",
    "- In `main.py`, add your initXXXX() method to `def activate_job()` function shown above.  Use this as basis of your video debugging session.  Debugging is hugely important at this level to understand your database success prior to building an API.  Building initXXXX() method, adding database records, and debugging will enable you to verify CRUD operations as you develop."
   ]
  }
 ],
 "metadata": {
  "kernelspec": {
   "display_name": "Python 3",
   "language": "python",
   "name": "python3"
  },
  "language_info": {
   "name": "python",
   "version": "3.8.10 (default, Nov 14 2022, 12:59:47) \n[GCC 9.4.0]"
  },
  "orig_nbformat": 4,
  "vscode": {
   "interpreter": {
    "hash": "916dbcbb3f70747c44a77c7bcd40155683ae19c65e1c03b4aa3499c5328201f1"
   }
  }
 },
 "nbformat": 4,
 "nbformat_minor": 2
}
