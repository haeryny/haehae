{
 "cells": [
  {
   "attachments": {},
   "cell_type": "markdown",
   "metadata": {},
   "source": [
    "# Hashmaps Hacks\n",
    "- toc: true\n",
    "- categories: []"
   ]
  },
  {
   "attachments": {},
   "cell_type": "markdown",
   "metadata": {},
   "source": [
    "## Diagram\n",
    "![image](https://user-images.githubusercontent.com/111464920/229386962-5c39b3e7-3572-491b-b394-1bcdcddc78b5.png)\n"
   ]
  },
  {
   "attachments": {},
   "cell_type": "markdown",
   "metadata": {},
   "source": [
    "## Own Album in Python Dictionary"
   ]
  },
  {
   "cell_type": "code",
   "execution_count": 1,
   "metadata": {},
   "outputs": [
    {
     "name": "stdout",
     "output_type": "stream",
     "text": [
      "{'title': 'AM', 'artist': 'Artic Monkeys', 'year': 2013, 'genre': ['Indie'], 'tracks': {1: 'Do I Wanna Know', 2: 'R U Mine?', 3: 'One For The Road', 4: 'Arabella', 5: 'I Want It All', 6: 'No. 1 Party Anthem', 7: 'Mad Sounds', 8: 'Fireside', 9: \"Why'd You Only Call me When You're High\", 10: 'Snap Out of It', 11: 'Knee Socks', 12: 'I Wanna Be Yours'}}\n"
     ]
    }
   ],
   "source": [
    "am_album = {\n",
    "    \"title\": \"AM\",\n",
    "    \"artist\": \"Artic Monkeys\",\n",
    "    \"year\": 2013,\n",
    "    \"genre\": [\"Indie\"],\n",
    "    \"tracks\": {\n",
    "        1: \"Do I Wanna Know\",\n",
    "        2: \"R U Mine?\",\n",
    "        3: \"One For The Road\",\n",
    "        4: \"Arabella\",\n",
    "        5: \"I Want It All\",\n",
    "        6: \"No. 1 Party Anthem\",\n",
    "        7: \"Mad Sounds\",\n",
    "        8: \"Fireside\",\n",
    "        9: \"Why'd You Only Call me When You're High\",\n",
    "        10: \"Snap Out of It\",\n",
    "        11: \"Knee Socks\",\n",
    "        12: \"I Wanna Be Yours\"\n",
    "    }\n",
    "}\n",
    "\n",
    "# Printing the dictionary\n",
    "print(am_album)"
   ]
  },
  {
   "cell_type": "code",
   "execution_count": 2,
   "metadata": {},
   "outputs": [
    {
     "name": "stdout",
     "output_type": "stream",
     "text": [
      "{1: 'Do I Wanna Know', 2: 'R U Mine?', 3: 'One For The Road', 4: 'Arabella', 5: 'I Want It All', 6: 'No. 1 Party Anthem', 7: 'Mad Sounds', 8: 'Fireside', 9: \"Why'd You Only Call me When You're High\", 10: 'Snap Out of It', 11: 'Knee Socks', 12: 'I Wanna Be Yours'}\n"
     ]
    }
   ],
   "source": [
    "print(am_album['tracks'])"
   ]
  },
  {
   "cell_type": "code",
   "execution_count": 3,
   "metadata": {},
   "outputs": [
    {
     "name": "stdout",
     "output_type": "stream",
     "text": [
      "No. 1 Party Anthem\n"
     ]
    }
   ],
   "source": [
    "print(am_album['tracks'][6])"
   ]
  },
  {
   "cell_type": "code",
   "execution_count": 4,
   "metadata": {},
   "outputs": [
    {
     "name": "stdout",
     "output_type": "stream",
     "text": [
      "{'title': 'AM', 'artist': 'Artic Monkeys', 'year': 2013, 'genre': ['Indie'], 'tracks': {1: 'Do I Wanna Know', 2: 'R U Mine?', 3: 'One For The Road', 4: 'Arabella', 5: 'I Want It All', 6: 'No. 1 Party Anthem', 7: 'Mad Sounds', 8: 'Fireside', 9: \"Why'd You Only Call me When You're High\", 10: 'Snap Out of It', 11: 'Knee Socks', 12: 'I Wanna Be Yours'}, 'producer': ['James Ford, Arctic Monkeys']}\n"
     ]
    }
   ],
   "source": [
    "# adding a value with a new key\n",
    "am_album[\"producer\"] = ['James Ford, Arctic Monkeys']\n",
    "\n",
    "# Printing the dictionary\n",
    "print(am_album)"
   ]
  },
  {
   "cell_type": "code",
   "execution_count": 6,
   "metadata": {},
   "outputs": [
    {
     "name": "stdout",
     "output_type": "stream",
     "text": [
      "title: AM\n",
      "artist: Artic Monkeys\n",
      "year: 2013\n",
      "genre: ['Indie']\n",
      "tracks: {1: 'Do I Wanna Know', 2: 'R U Mine?', 3: 'One For The Road', 4: 'Arabella', 5: 'I Want It All', 6: 'No. 1 Party Anthem', 7: 'Mad Sounds', 8: 'Fireside', 9: \"Why'd You Only Call me When You're High\", 10: 'Snap Out of It', 11: 'Knee Socks', 12: 'I Wanna Be Yours'}\n",
      "producer: ['James Ford, Arctic Monkeys']\n",
      "1: Do I Wanna Know\n",
      "2: R U Mine?\n",
      "3: One For The Road\n",
      "4: Arabella\n",
      "5: I Want It All\n",
      "6: No. 1 Party Anthem\n",
      "7: Mad Sounds\n",
      "8: Fireside\n",
      "9: Why'd You Only Call me When You're High\n",
      "10: Snap Out of It\n",
      "11: Knee Socks\n",
      "12: I Wanna Be Yours\n"
     ]
    }
   ],
   "source": [
    "# Print am_album in more readable format\n",
    "for k,v in am_album.items(): # iterate using a for loop for key and value\n",
    "    print(str(k) + \": \" + str(v))\n",
    "\n",
    "tracks = am_album[\"tracks\"]\n",
    "for k, v in tracks.items():\n",
    "    print(str(k) + \": \" + str(v))"
   ]
  },
  {
   "cell_type": "code",
   "execution_count": 7,
   "metadata": {},
   "outputs": [
    {
     "name": "stdout",
     "output_type": "stream",
     "text": [
      "2013\n",
      "['James Ford, Arctic Monkeys']\n"
     ]
    }
   ],
   "source": [
    "# Using conditionals to retrieve a random song\n",
    "def search():\n",
    "    search = input(\"What would you like to know about the album?\")\n",
    "    if am_album.get(search.lower()) == None:\n",
    "        print(\"Invalid Search\")\n",
    "    else:\n",
    "        print(am_album.get(search.lower()))\n",
    "\n",
    "search()\n",
    "\n",
    "# This is a very basic code segment, how can you improve upon this code?\n",
    "def research():\n",
    "    search = input(\"What would you like to know about the album?\")\n",
    "    if am_album.get(search.lower()) == None:\n",
    "        print(search, \" is an invalid input, try again!\")\n",
    "        research()\n",
    "    else:\n",
    "        print(am_album.get(search.lower()))\n",
    "research()"
   ]
  }
 ],
 "metadata": {
  "kernelspec": {
   "display_name": "base",
   "language": "python",
   "name": "python3"
  },
  "language_info": {
   "codemirror_mode": {
    "name": "ipython",
    "version": 3
   },
   "file_extension": ".py",
   "mimetype": "text/x-python",
   "name": "python",
   "nbconvert_exporter": "python",
   "pygments_lexer": "ipython3",
   "version": "3.9.12"
  },
  "orig_nbformat": 4
 },
 "nbformat": 4,
 "nbformat_minor": 2
}
