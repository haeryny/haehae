{
 "cells": [
  {
   "attachments": {},
   "cell_type": "markdown",
   "metadata": {},
   "source": [
    "# Video 3.14-15 Hacks\n",
    "\n",
    "- toc: true \n",
    "- badges: true\n",
    "- sticky_rank: 1\n",
    "- author: Haeryn Yu\n",
    "- categories: [week5, notes]"
   ]
  },
  {
   "attachments": {},
   "cell_type": "markdown",
   "metadata": {},
   "source": [
    "## Notes\n",
    "\n",
    "### 3.14 \n",
    "- Software libraries contain procedures used in creating novel programs.\n",
    "- Existing code segments can be derived from internal or external sources: Libraries, Previously written code.\n",
    "- Libraries simplify complex programs.\n",
    "- APIs (application program interfaces) specify how procedures in libraries should behave and be utilized.\n",
    "- Documentation for APIs/Libraries are necessary to gain proper understanding into how to use them.\n",
    "\n",
    "##### Vocabulary\n",
    "| Term | Definition |\n",
    "| ----- | -------- |\n",
    "| Documentation | Text that explains the what, how, or why of your code. |\n",
    "| Libraries | A collection of prewritten code or procedures that coders can use to maximize their efficiency |\n",
    "| Application Programming Interface | A type of software through several computers are able to communicate information amongst eachother |\n",
    "\n",
    "### 3.15\n",
    "\n",
    "Syntax:\n",
    "\n",
    "In collegeboard psudo-code RANDOM(a, b) is used to generate a random integer value in the range from a to b. For example if RANDOM(1, 5) is written 1, 2, 3, 4, and 5 have the same chance to show up. In Python the random library can be imported and the min and max ranges can be set to any integer.\n",
    "\n",
    "Randint:\n",
    "\n",
    "A general way to to write this is randint(start, stop) where start is the minimum value, stop is the maximum value. And this allows you to generate a random integer from a set range and this can help you create code for things like a coin-flip, dice roll, and anything else which needs an inclusive range.\n",
    "\n",
    "Randrange:\n",
    "\n",
    "In general randrange can be written like randrange(start, stop, step) where start is the minimum value, stop is the maximum value (like the randint function), and step is the incriment the values can be and its default value is 1. If start = 0 and step = 5 all the values that can by outputed are 0 and multiples of 5. And if start = 2 and step = 3 the output would be 2 and a multiple of 3 plus 2.\n",
    "\n",
    "## Reflection\n",
    "\n",
    "I learned about the random function and what documentation, libraries, and application programming interfaces are. The random function has three other functions that are syntax, randint, randrange and they all have different purposes and are way more efficient than coding it from the beginning with just python. This lesson was very good and I learned a lot!\n",
    "\n",
    "## Hacks\n",
    "\n",
    "### Multiple Choice\n",
    "\n",
    "1. B because the random functions chooses between the range of numbers and it also includes the numbers. \n",
    "2. A because x is the number that starts, y is the number that stops, z is the step this is because that is how they are formatted. \n",
    "3. A because random:random, random:shuffle, and random:randit exist and are functions in the library, but random:item doesn't exist.\n",
    "\n",
    "### Short Answer\n",
    "1. It is more efficient and speeds up the process of being able to look through the library rather than creating code that has be made for a word that already exists. For example, the randint function is where start is the minimum value and stop is the maximum value so I do not have to make a new piece of code to use that function. \n",
    "2. "
   ]
  },
  {
   "cell_type": "code",
   "execution_count": null,
   "metadata": {},
   "outputs": [],
   "source": [
    "import random \n",
    "\n",
    "names_string = input(\"Give me everybody's names, seperated by a comma.\") #The function asks for names to input and is the piece of code that makes a list. \n",
    "names = names_string.split(\",\") #This functions helps seperate the names one by one\n",
    "\n",
    "num_items = len(names) #makes the names into a list\n",
    "\n",
    "random_choice = random.randint(0, num_items - 1) #randint is the the function where start is the minimum which is 0 and the stop is maximum which is num_items - 1. \n",
    "\n",
    "person_who_will_pay = names[random_choice] #This chooses the random name\n",
    "\n",
    "print(f\"{person_who_will_pay} is going to buy the meal today!\") #This is the output."
   ]
  },
  {
   "attachments": {},
   "cell_type": "markdown",
   "metadata": {},
   "source": [
    "\n",
    "### Coding Challenges\n",
    "1. Create a program to pick five random names from a list of at least 15 names"
   ]
  },
  {
   "cell_type": "code",
   "execution_count": 19,
   "metadata": {},
   "outputs": [
    {
     "name": "stdout",
     "output_type": "stream",
     "text": [
      "5 random names are\n",
      "Jayden\n",
      "Hailey\n",
      "John\n",
      "Ellie\n",
      "Alex\n"
     ]
    }
   ],
   "source": [
    "import random \n",
    "names = [\"John\", \"Jake\", \"Jack\", \"Alex\", \"Ryan\", \"Jaiden\", \"Jayden\", \"Jaden\", \"Ethan\", \"Emily\", \"Ella\", \"Ellie\", \"Hailey\", \"Kaylee\", \"Bob\"]\n",
    "\n",
    "i = 0\n",
    "print(\"5 random names are\")\n",
    "while i < 5:\n",
    "    print(random.choice(names))\n",
    "    i += 1"
   ]
  },
  {
   "attachments": {},
   "cell_type": "markdown",
   "metadata": {},
   "source": [
    "2. Create a program to simulate a dice game where each player rolls two fair dice (6 sides); the player with the greater sum wins"
   ]
  },
  {
   "cell_type": "code",
   "execution_count": 18,
   "metadata": {},
   "outputs": [
    {
     "name": "stdout",
     "output_type": "stream",
     "text": [
      "Player one won with a score of 6\n",
      "Player two lost with a score of 3\n"
     ]
    }
   ],
   "source": [
    "import random\n",
    "\n",
    "oneFirstRoll = random.randrange(1,6)\n",
    "oneSecondRoll = random.randrange(1,6)\n",
    "oneScore = oneFirstRoll + oneSecondRoll\n",
    "\n",
    "twoFirstRoll = random.randrange(1,6)\n",
    "twoSecondRoll = random.randrange(1,6)\n",
    "twoScore = twoFirstRoll + twoSecondRoll\n",
    "\n",
    "if oneScore > twoScore:\n",
    "    print (\"Player one won with a score of\",playerOne())\n",
    "    print (\"Player two lost with a score of\",playerTwo())\n",
    "\n",
    "else:\n",
    "    print (\"Player two won with a score of\",playerTwo())\n",
    "    print (\"Player one lost with a score of\",playerOne())\n"
   ]
  },
  {
   "attachments": {},
   "cell_type": "markdown",
   "metadata": {},
   "source": [
    "### Extra Credit"
   ]
  },
  {
   "cell_type": "code",
   "execution_count": 12,
   "metadata": {},
   "outputs": [
    {
     "name": "stdout",
     "output_type": "stream",
     "text": [
      "Initial direction of the robot: ['down']\n",
      "Where the robot started: 11\n",
      "The goal position is: [16]\n",
      "The goal position is: [21, 21, 7, 7, 13, 13, 5, 5, 8, 8, 11, 15, 15, 10, 10, 17, 17, 16, 16, 3, 3, 19, 19]\n"
     ]
    }
   ],
   "source": [
    "import random \n",
    "\n",
    "direction = [\"up\", \"down\", \"left\", \"right\"]\n",
    "itemDirection = random.choices(direction)\n",
    "print(f\"Initial direction of the robot: {itemDirection}\") \n",
    "\n",
    "startNumber = random.randrange(1,25)\n",
    "print(f\"Where the robot started: {startNumber}\")\n",
    "\n",
    "goalPosition = []\n",
    "for i in range(1):\n",
    "   r=random.randrange(1,25)\n",
    "   if r != startNumber:\n",
    "      goalPosition.append(r)\n",
    "print(f\"The goal position is: {goalPosition}\")\n",
    "\n",
    "obstacles = []\n",
    "for i in range(12):\n",
    "   r=random.randint(1,25)\n",
    "   if r != startNumber:\n",
    "      obstacles.append(r)\n",
    "   if r != goalPosition:\n",
    "      obstacles.append(r)\n",
    "   if r not in obstacles:\n",
    "      obstacles.append(r)\n",
    "print(f\"The goal position is: {obstacles}\")\n",
    "\n",
    "## I tried to make it so the program wouldn't repeat the same number twice and it worked but it doubles the number."
   ]
  }
 ],
 "metadata": {
  "kernelspec": {
   "display_name": "Python 3",
   "language": "python",
   "name": "python3"
  },
  "language_info": {
   "codemirror_mode": {
    "name": "ipython",
    "version": 3
   },
   "file_extension": ".py",
   "mimetype": "text/x-python",
   "name": "python",
   "nbconvert_exporter": "python",
   "pygments_lexer": "ipython3",
   "version": "3.8.10"
  },
  "orig_nbformat": 4,
  "vscode": {
   "interpreter": {
    "hash": "916dbcbb3f70747c44a77c7bcd40155683ae19c65e1c03b4aa3499c5328201f1"
   }
  }
 },
 "nbformat": 4,
 "nbformat_minor": 2
}
