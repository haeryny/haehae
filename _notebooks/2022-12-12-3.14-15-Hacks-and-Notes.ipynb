{
 "cells": [
  {
   "attachments": {},
   "cell_type": "markdown",
   "metadata": {},
   "source": [
    "# Video 3.14-15 Hacks\n",
    "\n",
    "- toc: true \n",
    "- badges: true\n",
    "- sticky_rank: 1\n",
    "- author: Haeryn Yu\n",
    "- categories: [week5, notes]"
   ]
  },
  {
   "attachments": {},
   "cell_type": "markdown",
   "metadata": {},
   "source": [
    "## Notes\n",
    "\n",
    "### 3.14 \n",
    "- Software libraries contain procedures used in creating novel programs.\n",
    "- Existing code segments can be derived from internal or external sources: Libraries, Previously written code.\n",
    "- Libraries simplify complex programs.\n",
    "- APIs (application program interfaces) specify how procedures in libraries should behave and be utilized.\n",
    "- Documentation for APIs/Libraries are necessary to gain proper understanding into how to use them.\n",
    "\n",
    "##### Vocabulary\n",
    "| Term | Definition |\n",
    "| ----- | -------- |\n",
    "| Documentation | Text that explains the what, how, or why of your code. |\n",
    "| Libraries | A collection of prewritten code or procedures that coders can use to maximize their efficiency |\n",
    "| Application Programming Interface | A type of software through several computers are able to communicate information amongst eachother |\n",
    "\n",
    "### 3.15\n",
    "\n",
    "<html>\n",
    "<h3>Essential Knowledge</h3>\n",
    "<p>\n",
    "The exam reference sheet provides:\n",
    "<br>\n",
    "<br>\n",
    "<strong>RANDOM(a, b) </strong>- which generates and returns a random integer from a to b, inclusive. Each result is equally likely to occur. \n",
    "<br>\n",
    "For example, random(1,3) could return 1, 2, or 3.\n",
    "<br>\n",
    "<br>\n",
    "<strong>Adding two ranges to get a third range</strong>\n",
    "<br>\n",
    "<br>\n",
    "\n",
    "Syntax:\n",
    "\n",
    "In collegeboard psudo-code RANDOM(a, b) is used to generate a random integer value in the range from a to b. For example if RANDOM(1, 5) is written 1, 2, 3, 4, and 5 have the same chance to show up. In Python the random library can be imported and the min and max ranges can be set to any integer.\n",
    "\n",
    "Randint:\n",
    "\n",
    "A general way to to write this is randint(start, stop) where start is the minimum value, stop is the maximum value. And this allows you to generate a random integer from a set range and this can help you create code for things like a coin-flip, dice roll, and anything else which needs an inclusive range.\n",
    "\n",
    "Randrange:\n",
    "\n",
    "In general randrange can be written like randrange(start, stop, step) where start is the minimum value, stop is the maximum value (like the randint function), and step is the incriment the values can be and its default value is 1. If start = 0 and step = 5 all the values that can by outputed are 0 and multiples of 5. And if start = 2 and step = 3 the output would be 2 and a multiple of 3 plus 2."
   ]
  }
 ],
 "metadata": {
  "kernelspec": {
   "display_name": "Python 3",
   "language": "python",
   "name": "python3"
  },
  "language_info": {
   "name": "python",
   "version": "3.8.10 (default, Jun 22 2022, 20:18:18) \n[GCC 9.4.0]"
  },
  "orig_nbformat": 4,
  "vscode": {
   "interpreter": {
    "hash": "916dbcbb3f70747c44a77c7bcd40155683ae19c65e1c03b4aa3499c5328201f1"
   }
  }
 },
 "nbformat": 4,
 "nbformat_minor": 2
}
